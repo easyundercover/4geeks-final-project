{
 "cells": [
  {
   "cell_type": "markdown",
   "metadata": {},
   "source": [
    "# Fases del proyecto\n",
    "## 1. Definición del problema\n",
    "\n",
    "La idea es clasificar a diferentes medios de comunicación, para ver si se inclincan más por comentarios buenos hacia los candidatos de los partidos políticos de izquierda o los de derecha y ver si esto va variando con el tiempo.\n",
    "Los partidos políticos más populares del uruguay son el Frente Amplio (FA) ubicada a la izquierda o centroizquierda​ del espectro político, Partido Nacional (PA) y Partido Colorado (PC) se ubican a la derecha del espectro político."
   ]
  },
  {
   "cell_type": "markdown",
   "metadata": {},
   "source": [
    "\n",
    "## 2. Recolección de datos\n",
    "\n",
    "Vamos a usar un dataset disponible en Kaggle: https://www.kaggle.com/datasets/leadominguez/uruguayan-media-historical-tweets, que contiene tweets de 6 medios uruguayos (El País, Brecha, Búsqueda, El Observador, La República y La Diaria) desde la creación de sus cuentas hasta octubre del 2021.\n"
   ]
  },
  {
   "cell_type": "markdown",
   "metadata": {},
   "source": [
    "\n",
    "## 3. Exploratory Data Analysis\n",
    "\n",
    "Explore your data as much as you can to find important patterns and relationships between features. Use graphs to explain this patterns. This will be important to show in your presentation.\n",
    "\n",
    "## 4. Data Preprocessing\n",
    "\n",
    "Clean your data to build a good model, because poor quality data will always produce faulty results. You can go back to your data preprocessing module to remember all the steps needed.\n",
    "\n",
    "If this is a classification problem, is your data balanced? If not, consider resampling it, or make sure to pick the correct evaluation metric.\n",
    "\n",
    "Does your data have a lot of outliers? Are they normal values from your population or should you drop them? or even better, impute them?\n",
    "\n",
    "Will your model require normalization? Maybe you are dealing with a robust algorithm to train and normalization is not needed.\n",
    "\n",
    "Make yourself all this questions before training your model. Who knows these are the same questions you will be asked at your presentation.\n",
    "\n",
    "Remember: Garbage in, garbage out.\n",
    "\n",
    "## 5. Model and results\n",
    "\n",
    "Pick one or more algorithms to train, evaluate and hypertune. Choose the one you will be working with and save it for the deployment step.\n",
    "\n",
    "## 6. Deployment\n",
    "\n",
    "Build a machine learning web application using your saved model. You can use Flask, Streamlit or any other tool that you know. Use Heroku or another cloud computing platform that you prefere to deploy your web application and share it with the world."
   ]
  }
 ],
 "metadata": {
  "kernelspec": {
   "display_name": "Python 3.8.13 64-bit ('3.8.13')",
   "language": "python",
   "name": "python3"
  },
  "language_info": {
   "codemirror_mode": {
    "name": "ipython",
    "version": 3
   },
   "file_extension": ".py",
   "mimetype": "text/x-python",
   "name": "python",
   "nbconvert_exporter": "python",
   "pygments_lexer": "ipython3",
   "version": "3.8.13"
  },
  "orig_nbformat": 4,
  "vscode": {
   "interpreter": {
    "hash": "110cc1dee26208153f2972f08a2ad52b6a56238dc66d48e87fb757ef2996db56"
   }
  }
 },
 "nbformat": 4,
 "nbformat_minor": 2
}
