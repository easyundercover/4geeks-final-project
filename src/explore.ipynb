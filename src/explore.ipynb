{
    "cells": [
        {
            "cell_type": "code",
            "execution_count": 1,
            "metadata": {},
            "outputs": [],
            "source": [
                "%%capture\n",
                "!pip install -r '../requirements.txt'"
            ]
        },
        {
            "cell_type": "code",
            "execution_count": 14,
            "metadata": {},
            "outputs": [],
            "source": [
                "#Importamos librerías\n",
                "import pandas as pd\n",
                "import numpy as np\n",
                "import matplotlib.pyplot as plt\n",
                "plt.style.use('seaborn-darkgrid')"
            ]
        },
        {
            "cell_type": "code",
            "execution_count": 3,
            "metadata": {},
            "outputs": [],
            "source": [
                "#Cargamos el dataset\n",
                "df_raw = pd.read_csv(\"../data/raw/full_info.csv\")"
            ]
        },
        {
            "cell_type": "code",
            "execution_count": 8,
            "metadata": {},
            "outputs": [
                {
                    "name": "stdout",
                    "output_type": "stream",
                    "text": [
                        "<class 'pandas.core.frame.DataFrame'>\n",
                        "RangeIndex: 728793 entries, 0 to 728792\n",
                        "Data columns (total 22 columns):\n",
                        " #   Column                      Non-Null Count   Dtype  \n",
                        "---  ------                      --------------   -----  \n",
                        " 0   TweetID                     728793 non-null  float64\n",
                        " 1   User                        728793 non-null  object \n",
                        " 2   Handle                      728793 non-null  object \n",
                        " 3   PostDate                    728793 non-null  object \n",
                        " 4   Tweet                       727496 non-null  object \n",
                        " 5   Attachment                  195613 non-null  object \n",
                        " 6   ReplyCount                  728793 non-null  float64\n",
                        " 7   RetweetCount                728793 non-null  float64\n",
                        " 8   LikeCount                   728793 non-null  float64\n",
                        " 9   TweetAndAttachment          727845 non-null  object \n",
                        " 10  PreprocessedEmbeddings      727842 non-null  object \n",
                        " 11  infered_label_cbow          728793 non-null  object \n",
                        " 12  PreprocessedNERs            727560 non-null  object \n",
                        " 13  TweetPreprocessedNERs       727050 non-null  object \n",
                        " 14  AttachmentPreprocessedNERs  195612 non-null  object \n",
                        " 15  LocalidadesSpacy            728793 non-null  object \n",
                        " 16  PersonasSpacy               728793 non-null  object \n",
                        " 17  OrganizacionesSpacy         728793 non-null  object \n",
                        " 18  LocalidadesStanza           728793 non-null  object \n",
                        " 19  PersonasStanza              728793 non-null  object \n",
                        " 20  OrganizacionesStanza        728793 non-null  object \n",
                        " 21  cluster                     728793 non-null  int64  \n",
                        "dtypes: float64(4), int64(1), object(17)\n",
                        "memory usage: 122.3+ MB\n"
                    ]
                }
            ],
            "source": [
                "#Información básica sobre el dataset\n",
                "df_raw.info()\n",
                "\n",
                "#22 variables, 728793 observaciones, hay valores nulos.\n",
                "#La columna tweet tiene 1297 valores nulos."
            ]
        },
        {
            "cell_type": "code",
            "execution_count": 7,
            "metadata": {},
            "outputs": [
                {
                    "data": {
                        "text/html": [
                            "<div>\n",
                            "<style scoped>\n",
                            "    .dataframe tbody tr th:only-of-type {\n",
                            "        vertical-align: middle;\n",
                            "    }\n",
                            "\n",
                            "    .dataframe tbody tr th {\n",
                            "        vertical-align: top;\n",
                            "    }\n",
                            "\n",
                            "    .dataframe thead th {\n",
                            "        text-align: right;\n",
                            "    }\n",
                            "</style>\n",
                            "<table border=\"1\" class=\"dataframe\">\n",
                            "  <thead>\n",
                            "    <tr style=\"text-align: right;\">\n",
                            "      <th></th>\n",
                            "      <th>TweetID</th>\n",
                            "      <th>User</th>\n",
                            "      <th>Handle</th>\n",
                            "      <th>PostDate</th>\n",
                            "      <th>Tweet</th>\n",
                            "      <th>Attachment</th>\n",
                            "      <th>ReplyCount</th>\n",
                            "      <th>RetweetCount</th>\n",
                            "      <th>LikeCount</th>\n",
                            "      <th>TweetAndAttachment</th>\n",
                            "      <th>...</th>\n",
                            "      <th>PreprocessedNERs</th>\n",
                            "      <th>TweetPreprocessedNERs</th>\n",
                            "      <th>AttachmentPreprocessedNERs</th>\n",
                            "      <th>LocalidadesSpacy</th>\n",
                            "      <th>PersonasSpacy</th>\n",
                            "      <th>OrganizacionesSpacy</th>\n",
                            "      <th>LocalidadesStanza</th>\n",
                            "      <th>PersonasStanza</th>\n",
                            "      <th>OrganizacionesStanza</th>\n",
                            "      <th>cluster</th>\n",
                            "    </tr>\n",
                            "  </thead>\n",
                            "  <tbody>\n",
                            "    <tr>\n",
                            "      <th>0</th>\n",
                            "      <td>5.498827e+17</td>\n",
                            "      <td>Brecha</td>\n",
                            "      <td>@SemanarioBrecha</td>\n",
                            "      <td>2014-12-30T11:00:21.000Z</td>\n",
                            "      <td>Brecha conversó sobre Aratirí con el subsecret...</td>\n",
                            "      <td>NaN</td>\n",
                            "      <td>0.0</td>\n",
                            "      <td>1.0</td>\n",
                            "      <td>0.0</td>\n",
                            "      <td>Brecha conversó sobre Aratirí con el subsecret...</td>\n",
                            "      <td>...</td>\n",
                            "      <td>Brecha conversó sobre Aratirí con el subsecret...</td>\n",
                            "      <td>Brecha conversó sobre Aratirí con el subsecret...</td>\n",
                            "      <td>NaN</td>\n",
                            "      <td>['Aratirí', 'Brecha']</td>\n",
                            "      <td>['Edgardo Ortuño', 'Industria']</td>\n",
                            "      <td>[]</td>\n",
                            "      <td>[]</td>\n",
                            "      <td>['Edgardo Ortuño', 'Brecha', 'Aratirí']</td>\n",
                            "      <td>[]</td>\n",
                            "      <td>8</td>\n",
                            "    </tr>\n",
                            "    <tr>\n",
                            "      <th>1</th>\n",
                            "      <td>5.496712e+17</td>\n",
                            "      <td>Brecha</td>\n",
                            "      <td>@SemanarioBrecha</td>\n",
                            "      <td>2014-12-29T21:00:09.000Z</td>\n",
                            "      <td>El personaje del inspector Maigret vendió más ...</td>\n",
                            "      <td>NaN</td>\n",
                            "      <td>0.0</td>\n",
                            "      <td>0.0</td>\n",
                            "      <td>4.0</td>\n",
                            "      <td>El personaje del inspector Maigret vendió más ...</td>\n",
                            "      <td>...</td>\n",
                            "      <td>El personaje del inspector Maigret vendió más ...</td>\n",
                            "      <td>El personaje del inspector Maigret vendió más ...</td>\n",
                            "      <td>NaN</td>\n",
                            "      <td>[]</td>\n",
                            "      <td>['Maigret']</td>\n",
                            "      <td>[]</td>\n",
                            "      <td>[]</td>\n",
                            "      <td>['Maigret']</td>\n",
                            "      <td>[]</td>\n",
                            "      <td>17</td>\n",
                            "    </tr>\n",
                            "    <tr>\n",
                            "      <th>2</th>\n",
                            "      <td>5.496103e+17</td>\n",
                            "      <td>Brecha</td>\n",
                            "      <td>@SemanarioBrecha</td>\n",
                            "      <td>2014-12-29T16:57:57.000Z</td>\n",
                            "      <td>Víctor Hugo Abelando analiza en esta nota las ...</td>\n",
                            "      <td>NaN</td>\n",
                            "      <td>0.0</td>\n",
                            "      <td>0.0</td>\n",
                            "      <td>0.0</td>\n",
                            "      <td>Víctor Hugo Abelando analiza en esta nota las ...</td>\n",
                            "      <td>...</td>\n",
                            "      <td>Víctor Hugo Abelando analiza en esta nota las ...</td>\n",
                            "      <td>Víctor Hugo Abelando analiza en esta nota las ...</td>\n",
                            "      <td>NaN</td>\n",
                            "      <td>[]</td>\n",
                            "      <td>['Víctor Hugo Abelando']</td>\n",
                            "      <td>['FA']</td>\n",
                            "      <td>[]</td>\n",
                            "      <td>['Víctor Hugo Abelando']</td>\n",
                            "      <td>['FA']</td>\n",
                            "      <td>8</td>\n",
                            "    </tr>\n",
                            "    <tr>\n",
                            "      <th>3</th>\n",
                            "      <td>5.495958e+17</td>\n",
                            "      <td>Brecha</td>\n",
                            "      <td>@SemanarioBrecha</td>\n",
                            "      <td>2014-12-29T16:00:19.000Z</td>\n",
                            "      <td>En España 7 personas están presas acusadas de ...</td>\n",
                            "      <td>NaN</td>\n",
                            "      <td>0.0</td>\n",
                            "      <td>0.0</td>\n",
                            "      <td>1.0</td>\n",
                            "      <td>En España 7 personas están presas acusadas de ...</td>\n",
                            "      <td>...</td>\n",
                            "      <td>En España 7 personas están presas acusadas de ...</td>\n",
                            "      <td>En España 7 personas están presas acusadas de ...</td>\n",
                            "      <td>NaN</td>\n",
                            "      <td>[]</td>\n",
                            "      <td>[]</td>\n",
                            "      <td>[]</td>\n",
                            "      <td>['España']</td>\n",
                            "      <td>[]</td>\n",
                            "      <td>[]</td>\n",
                            "      <td>11</td>\n",
                            "    </tr>\n",
                            "    <tr>\n",
                            "      <th>4</th>\n",
                            "      <td>5.495203e+17</td>\n",
                            "      <td>Brecha</td>\n",
                            "      <td>@SemanarioBrecha</td>\n",
                            "      <td>2014-12-29T11:00:18.000Z</td>\n",
                            "      <td>#Ajena en Mal Abrigo: una dimensión territoria...</td>\n",
                            "      <td>NaN</td>\n",
                            "      <td>0.0</td>\n",
                            "      <td>0.0</td>\n",
                            "      <td>1.0</td>\n",
                            "      <td>#Ajena en Mal Abrigo: una dimensión territoria...</td>\n",
                            "      <td>...</td>\n",
                            "      <td>#Ajena en Mal Abrigo: una dimensión territoria...</td>\n",
                            "      <td>#Ajena en Mal Abrigo: una dimensión territoria...</td>\n",
                            "      <td>NaN</td>\n",
                            "      <td>['Estado', 'Mal Abrigo']</td>\n",
                            "      <td>[]</td>\n",
                            "      <td>[]</td>\n",
                            "      <td>['Mal Abrigo']</td>\n",
                            "      <td>[]</td>\n",
                            "      <td>['Estado']</td>\n",
                            "      <td>14</td>\n",
                            "    </tr>\n",
                            "  </tbody>\n",
                            "</table>\n",
                            "<p>5 rows × 22 columns</p>\n",
                            "</div>"
                        ],
                        "text/plain": [
                            "        TweetID    User            Handle                  PostDate  \\\n",
                            "0  5.498827e+17  Brecha  @SemanarioBrecha  2014-12-30T11:00:21.000Z   \n",
                            "1  5.496712e+17  Brecha  @SemanarioBrecha  2014-12-29T21:00:09.000Z   \n",
                            "2  5.496103e+17  Brecha  @SemanarioBrecha  2014-12-29T16:57:57.000Z   \n",
                            "3  5.495958e+17  Brecha  @SemanarioBrecha  2014-12-29T16:00:19.000Z   \n",
                            "4  5.495203e+17  Brecha  @SemanarioBrecha  2014-12-29T11:00:18.000Z   \n",
                            "\n",
                            "                                               Tweet Attachment  ReplyCount  \\\n",
                            "0  Brecha conversó sobre Aratirí con el subsecret...        NaN         0.0   \n",
                            "1  El personaje del inspector Maigret vendió más ...        NaN         0.0   \n",
                            "2  Víctor Hugo Abelando analiza en esta nota las ...        NaN         0.0   \n",
                            "3  En España 7 personas están presas acusadas de ...        NaN         0.0   \n",
                            "4  #Ajena en Mal Abrigo: una dimensión territoria...        NaN         0.0   \n",
                            "\n",
                            "   RetweetCount  LikeCount                                 TweetAndAttachment  \\\n",
                            "0           1.0        0.0  Brecha conversó sobre Aratirí con el subsecret...   \n",
                            "1           0.0        4.0  El personaje del inspector Maigret vendió más ...   \n",
                            "2           0.0        0.0  Víctor Hugo Abelando analiza en esta nota las ...   \n",
                            "3           0.0        1.0  En España 7 personas están presas acusadas de ...   \n",
                            "4           0.0        1.0  #Ajena en Mal Abrigo: una dimensión territoria...   \n",
                            "\n",
                            "   ...                                   PreprocessedNERs  \\\n",
                            "0  ...  Brecha conversó sobre Aratirí con el subsecret...   \n",
                            "1  ...  El personaje del inspector Maigret vendió más ...   \n",
                            "2  ...  Víctor Hugo Abelando analiza en esta nota las ...   \n",
                            "3  ...  En España 7 personas están presas acusadas de ...   \n",
                            "4  ...  #Ajena en Mal Abrigo: una dimensión territoria...   \n",
                            "\n",
                            "                               TweetPreprocessedNERs  \\\n",
                            "0  Brecha conversó sobre Aratirí con el subsecret...   \n",
                            "1  El personaje del inspector Maigret vendió más ...   \n",
                            "2  Víctor Hugo Abelando analiza en esta nota las ...   \n",
                            "3  En España 7 personas están presas acusadas de ...   \n",
                            "4  #Ajena en Mal Abrigo: una dimensión territoria...   \n",
                            "\n",
                            "  AttachmentPreprocessedNERs          LocalidadesSpacy  \\\n",
                            "0                        NaN     ['Aratirí', 'Brecha']   \n",
                            "1                        NaN                        []   \n",
                            "2                        NaN                        []   \n",
                            "3                        NaN                        []   \n",
                            "4                        NaN  ['Estado', 'Mal Abrigo']   \n",
                            "\n",
                            "                     PersonasSpacy OrganizacionesSpacy LocalidadesStanza  \\\n",
                            "0  ['Edgardo Ortuño', 'Industria']                  []                []   \n",
                            "1                      ['Maigret']                  []                []   \n",
                            "2         ['Víctor Hugo Abelando']              ['FA']                []   \n",
                            "3                               []                  []        ['España']   \n",
                            "4                               []                  []    ['Mal Abrigo']   \n",
                            "\n",
                            "                            PersonasStanza OrganizacionesStanza cluster  \n",
                            "0  ['Edgardo Ortuño', 'Brecha', 'Aratirí']                   []       8  \n",
                            "1                              ['Maigret']                   []      17  \n",
                            "2                 ['Víctor Hugo Abelando']               ['FA']       8  \n",
                            "3                                       []                   []      11  \n",
                            "4                                       []           ['Estado']      14  \n",
                            "\n",
                            "[5 rows x 22 columns]"
                        ]
                    },
                    "execution_count": 7,
                    "metadata": {},
                    "output_type": "execute_result"
                }
            ],
            "source": [
                "df_raw.head()"
            ]
        },
        {
            "cell_type": "code",
            "execution_count": 5,
            "metadata": {},
            "outputs": [],
            "source": [
                "#Copiamos el df para hacer transformaciones\n",
                "df_interim = df_raw.copy()"
            ]
        },
        {
            "cell_type": "code",
            "execution_count": 55,
            "metadata": {},
            "outputs": [],
            "source": [
                "#Pasamos postdate a tipo fecha\n",
                "df_interim['PostDate'] = df_interim['PostDate'].astype('datetime64')\n",
                "#Pasamos tweets a tipo string\n",
                "df_interim['Tweet'] = df_interim['Tweet'].astype('string')"
            ]
        },
        {
            "cell_type": "code",
            "execution_count": 7,
            "metadata": {},
            "outputs": [],
            "source": [
                "#Nos quedamos con las variables relevantes para nuestro análisis\n",
                "df_interim = df_interim[['TweetID', 'User', 'Handle', 'PostDate', 'Tweet', 'ReplyCount', 'RetweetCount', 'LikeCount', 'PersonasSpacy']]"
            ]
        },
        {
            "cell_type": "code",
            "execution_count": 8,
            "metadata": {},
            "outputs": [],
            "source": [
                "#Creamos columnas con mes y año por separado\n",
                "df_interim['year'] = df_interim['PostDate'].dt.year\n",
                "df_interim['month'] = df_interim['PostDate'].dt.month"
            ]
        },
        {
            "cell_type": "code",
            "execution_count": 60,
            "metadata": {},
            "outputs": [],
            "source": [
                "#Eliminamos los valores nulos de la columna tweets\n",
                "df_interim = df_interim.dropna(axis=0)"
            ]
        },
        {
            "cell_type": "code",
            "execution_count": 62,
            "metadata": {},
            "outputs": [],
            "source": [
                "#Copiamos el dataframe para hacer EDA\n",
                "df = df_interim.copy()"
            ]
        },
        {
            "cell_type": "markdown",
            "metadata": {},
            "source": [
                "## Exploratory Data Analysis\n"
            ]
        },
        {
            "cell_type": "code",
            "execution_count": 20,
            "metadata": {},
            "outputs": [
                {
                    "data": {
                        "text/html": [
                            "<div>\n",
                            "<style scoped>\n",
                            "    .dataframe tbody tr th:only-of-type {\n",
                            "        vertical-align: middle;\n",
                            "    }\n",
                            "\n",
                            "    .dataframe tbody tr th {\n",
                            "        vertical-align: top;\n",
                            "    }\n",
                            "\n",
                            "    .dataframe thead th {\n",
                            "        text-align: right;\n",
                            "    }\n",
                            "</style>\n",
                            "<table border=\"1\" class=\"dataframe\">\n",
                            "  <thead>\n",
                            "    <tr style=\"text-align: right;\">\n",
                            "      <th></th>\n",
                            "      <th>User</th>\n",
                            "      <th>Count</th>\n",
                            "    </tr>\n",
                            "  </thead>\n",
                            "  <tbody>\n",
                            "    <tr>\n",
                            "      <th>2</th>\n",
                            "      <td>EL PAÍS</td>\n",
                            "      <td>287310</td>\n",
                            "    </tr>\n",
                            "    <tr>\n",
                            "      <th>3</th>\n",
                            "      <td>El Observador</td>\n",
                            "      <td>165246</td>\n",
                            "    </tr>\n",
                            "    <tr>\n",
                            "      <th>4</th>\n",
                            "      <td>La República</td>\n",
                            "      <td>155983</td>\n",
                            "    </tr>\n",
                            "    <tr>\n",
                            "      <th>5</th>\n",
                            "      <td>la diaria</td>\n",
                            "      <td>80520</td>\n",
                            "    </tr>\n",
                            "    <tr>\n",
                            "      <th>1</th>\n",
                            "      <td>BÚSQUEDA</td>\n",
                            "      <td>27301</td>\n",
                            "    </tr>\n",
                            "    <tr>\n",
                            "      <th>0</th>\n",
                            "      <td>Brecha</td>\n",
                            "      <td>12433</td>\n",
                            "    </tr>\n",
                            "  </tbody>\n",
                            "</table>\n",
                            "</div>"
                        ],
                        "text/plain": [
                            "            User   Count\n",
                            "2        EL PAÍS  287310\n",
                            "3  El Observador  165246\n",
                            "4   La República  155983\n",
                            "5      la diaria   80520\n",
                            "1       BÚSQUEDA   27301\n",
                            "0         Brecha   12433"
                        ]
                    },
                    "execution_count": 20,
                    "metadata": {},
                    "output_type": "execute_result"
                }
            ],
            "source": [
                "#Cantidad de tweets totales según medio de comunicación\n",
                "df.groupby('User').size().reset_index(name='Count').sort_values(by='Count',ascending=False)"
            ]
        },
        {
            "cell_type": "code",
            "execution_count": 11,
            "metadata": {},
            "outputs": [
                {
                    "data": {
                        "text/html": [
                            "<div>\n",
                            "<style scoped>\n",
                            "    .dataframe tbody tr th:only-of-type {\n",
                            "        vertical-align: middle;\n",
                            "    }\n",
                            "\n",
                            "    .dataframe tbody tr th {\n",
                            "        vertical-align: top;\n",
                            "    }\n",
                            "\n",
                            "    .dataframe thead th {\n",
                            "        text-align: right;\n",
                            "    }\n",
                            "</style>\n",
                            "<table border=\"1\" class=\"dataframe\">\n",
                            "  <thead>\n",
                            "    <tr style=\"text-align: right;\">\n",
                            "      <th></th>\n",
                            "      <th>ReplyCount</th>\n",
                            "      <th>RetweetCount</th>\n",
                            "      <th>LikeCount</th>\n",
                            "    </tr>\n",
                            "  </thead>\n",
                            "  <tbody>\n",
                            "    <tr>\n",
                            "      <th>count</th>\n",
                            "      <td>728793.000000</td>\n",
                            "      <td>728793.000000</td>\n",
                            "      <td>728793.000000</td>\n",
                            "    </tr>\n",
                            "    <tr>\n",
                            "      <th>mean</th>\n",
                            "      <td>1.575720</td>\n",
                            "      <td>4.318377</td>\n",
                            "      <td>8.037504</td>\n",
                            "    </tr>\n",
                            "    <tr>\n",
                            "      <th>std</th>\n",
                            "      <td>7.752874</td>\n",
                            "      <td>16.592098</td>\n",
                            "      <td>41.372540</td>\n",
                            "    </tr>\n",
                            "    <tr>\n",
                            "      <th>min</th>\n",
                            "      <td>0.000000</td>\n",
                            "      <td>0.000000</td>\n",
                            "      <td>0.000000</td>\n",
                            "    </tr>\n",
                            "    <tr>\n",
                            "      <th>25%</th>\n",
                            "      <td>0.000000</td>\n",
                            "      <td>0.000000</td>\n",
                            "      <td>1.000000</td>\n",
                            "    </tr>\n",
                            "    <tr>\n",
                            "      <th>50%</th>\n",
                            "      <td>0.000000</td>\n",
                            "      <td>2.000000</td>\n",
                            "      <td>2.000000</td>\n",
                            "    </tr>\n",
                            "    <tr>\n",
                            "      <th>75%</th>\n",
                            "      <td>1.000000</td>\n",
                            "      <td>4.000000</td>\n",
                            "      <td>6.000000</td>\n",
                            "    </tr>\n",
                            "    <tr>\n",
                            "      <th>max</th>\n",
                            "      <td>952.000000</td>\n",
                            "      <td>4000.000000</td>\n",
                            "      <td>13700.000000</td>\n",
                            "    </tr>\n",
                            "  </tbody>\n",
                            "</table>\n",
                            "</div>"
                        ],
                        "text/plain": [
                            "          ReplyCount   RetweetCount      LikeCount\n",
                            "count  728793.000000  728793.000000  728793.000000\n",
                            "mean        1.575720       4.318377       8.037504\n",
                            "std         7.752874      16.592098      41.372540\n",
                            "min         0.000000       0.000000       0.000000\n",
                            "25%         0.000000       0.000000       1.000000\n",
                            "50%         0.000000       2.000000       2.000000\n",
                            "75%         1.000000       4.000000       6.000000\n",
                            "max       952.000000    4000.000000   13700.000000"
                        ]
                    },
                    "execution_count": 11,
                    "metadata": {},
                    "output_type": "execute_result"
                }
            ],
            "source": [
                "#Estadísticas descriptivas de las variables numéricas\n",
                "df[['ReplyCount', 'RetweetCount', 'LikeCount']].describe()"
            ]
        },
        {
            "cell_type": "code",
            "execution_count": 15,
            "metadata": {},
            "outputs": [
                {
                    "data": {
                        "image/png": "[encoded data removed]",
                        "text/plain": [
                            "<Figure size 864x432 with 4 Axes>"
                        ]
                    },
                    "metadata": {},
                    "output_type": "display_data"
                }
            ],
            "source": [
                "#Histograma de las variables numéricas\n",
                "df[['LikeCount', 'ReplyCount', 'RetweetCount']].hist(figsize= (12, 6))\n",
                "plt.show()"
            ]
        },
        {
            "cell_type": "code",
            "execution_count": 14,
            "metadata": {},
            "outputs": [
                {
                    "data": {
                        "text/html": [
                            "<div>\n",
                            "<style scoped>\n",
                            "    .dataframe tbody tr th:only-of-type {\n",
                            "        vertical-align: middle;\n",
                            "    }\n",
                            "\n",
                            "    .dataframe tbody tr th {\n",
                            "        vertical-align: top;\n",
                            "    }\n",
                            "\n",
                            "    .dataframe thead th {\n",
                            "        text-align: right;\n",
                            "    }\n",
                            "</style>\n",
                            "<table border=\"1\" class=\"dataframe\">\n",
                            "  <thead>\n",
                            "    <tr style=\"text-align: right;\">\n",
                            "      <th></th>\n",
                            "      <th>year</th>\n",
                            "      <th>User</th>\n",
                            "      <th>Count</th>\n",
                            "    </tr>\n",
                            "  </thead>\n",
                            "  <tbody>\n",
                            "    <tr>\n",
                            "      <th>64</th>\n",
                            "      <td>2021</td>\n",
                            "      <td>la diaria</td>\n",
                            "      <td>10084</td>\n",
                            "    </tr>\n",
                            "    <tr>\n",
                            "      <th>63</th>\n",
                            "      <td>2021</td>\n",
                            "      <td>La República</td>\n",
                            "      <td>8857</td>\n",
                            "    </tr>\n",
                            "    <tr>\n",
                            "      <th>62</th>\n",
                            "      <td>2021</td>\n",
                            "      <td>El Observador</td>\n",
                            "      <td>11129</td>\n",
                            "    </tr>\n",
                            "    <tr>\n",
                            "      <th>61</th>\n",
                            "      <td>2021</td>\n",
                            "      <td>EL PAÍS</td>\n",
                            "      <td>22552</td>\n",
                            "    </tr>\n",
                            "    <tr>\n",
                            "      <th>60</th>\n",
                            "      <td>2021</td>\n",
                            "      <td>BÚSQUEDA</td>\n",
                            "      <td>1145</td>\n",
                            "    </tr>\n",
                            "    <tr>\n",
                            "      <th>59</th>\n",
                            "      <td>2021</td>\n",
                            "      <td>Brecha</td>\n",
                            "      <td>533</td>\n",
                            "    </tr>\n",
                            "    <tr>\n",
                            "      <th>58</th>\n",
                            "      <td>2020</td>\n",
                            "      <td>la diaria</td>\n",
                            "      <td>20495</td>\n",
                            "    </tr>\n",
                            "    <tr>\n",
                            "      <th>57</th>\n",
                            "      <td>2020</td>\n",
                            "      <td>La República</td>\n",
                            "      <td>19493</td>\n",
                            "    </tr>\n",
                            "    <tr>\n",
                            "      <th>56</th>\n",
                            "      <td>2020</td>\n",
                            "      <td>El Observador</td>\n",
                            "      <td>31426</td>\n",
                            "    </tr>\n",
                            "    <tr>\n",
                            "      <th>55</th>\n",
                            "      <td>2020</td>\n",
                            "      <td>EL PAÍS</td>\n",
                            "      <td>53294</td>\n",
                            "    </tr>\n",
                            "    <tr>\n",
                            "      <th>54</th>\n",
                            "      <td>2020</td>\n",
                            "      <td>BÚSQUEDA</td>\n",
                            "      <td>3194</td>\n",
                            "    </tr>\n",
                            "    <tr>\n",
                            "      <th>53</th>\n",
                            "      <td>2020</td>\n",
                            "      <td>Brecha</td>\n",
                            "      <td>1720</td>\n",
                            "    </tr>\n",
                            "  </tbody>\n",
                            "</table>\n",
                            "</div>"
                        ],
                        "text/plain": [
                            "    year           User  Count\n",
                            "64  2021      la diaria  10084\n",
                            "63  2021   La República   8857\n",
                            "62  2021  El Observador  11129\n",
                            "61  2021        EL PAÍS  22552\n",
                            "60  2021       BÚSQUEDA   1145\n",
                            "59  2021         Brecha    533\n",
                            "58  2020      la diaria  20495\n",
                            "57  2020   La República  19493\n",
                            "56  2020  El Observador  31426\n",
                            "55  2020        EL PAÍS  53294\n",
                            "54  2020       BÚSQUEDA   3194\n",
                            "53  2020         Brecha   1720"
                        ]
                    },
                    "execution_count": 14,
                    "metadata": {},
                    "output_type": "execute_result"
                }
            ],
            "source": [
                "#Cantidad de tweets correspondientes a los años 2020 y 2021 según medio de comunicación\n",
                "df.groupby(['year','User']).size().reset_index(name='Count').sort_values(by=(['year', 'User']),ascending=False)[:12]"
            ]
        },
        {
            "cell_type": "code",
            "execution_count": 60,
            "metadata": {},
            "outputs": [
                {
                    "data": {
                        "text/html": [
                            "<div>\n",
                            "<style scoped>\n",
                            "    .dataframe tbody tr th:only-of-type {\n",
                            "        vertical-align: middle;\n",
                            "    }\n",
                            "\n",
                            "    .dataframe tbody tr th {\n",
                            "        vertical-align: top;\n",
                            "    }\n",
                            "\n",
                            "    .dataframe thead th {\n",
                            "        text-align: right;\n",
                            "    }\n",
                            "</style>\n",
                            "<table border=\"1\" class=\"dataframe\">\n",
                            "  <thead>\n",
                            "    <tr style=\"text-align: right;\">\n",
                            "      <th></th>\n",
                            "      <th>Tweet</th>\n",
                            "      <th>RetweetCount</th>\n",
                            "      <th>PostDate</th>\n",
                            "      <th>User</th>\n",
                            "    </tr>\n",
                            "  </thead>\n",
                            "  <tbody>\n",
                            "    <tr>\n",
                            "      <th>263191</th>\n",
                            "      <td>Tiene 12 años y fue becada para viajar a la NA...</td>\n",
                            "      <td>4000.0</td>\n",
                            "      <td>2018-05-13 10:07:06</td>\n",
                            "      <td>EL PAÍS</td>\n",
                            "    </tr>\n",
                            "    <tr>\n",
                            "      <th>345166</th>\n",
                            "      <td>Bolsonaro cruzó la avenida de las leyes para s...</td>\n",
                            "      <td>2600.0</td>\n",
                            "      <td>2020-03-01 16:40:18</td>\n",
                            "      <td>EL PAÍS</td>\n",
                            "    </tr>\n",
                            "    <tr>\n",
                            "      <th>259344</th>\n",
                            "      <td>Hinchas uruguayos se inspiraron en los japones...</td>\n",
                            "      <td>2300.0</td>\n",
                            "      <td>2018-06-20 17:44:55</td>\n",
                            "      <td>EL PAÍS</td>\n",
                            "    </tr>\n",
                            "    <tr>\n",
                            "      <th>240965</th>\n",
                            "      <td>AHORA | El gobierno uruguayo no concederá asil...</td>\n",
                            "      <td>2200.0</td>\n",
                            "      <td>2018-12-03 13:16:37</td>\n",
                            "      <td>EL PAÍS</td>\n",
                            "    </tr>\n",
                            "    <tr>\n",
                            "      <th>556052</th>\n",
                            "      <td>“El baile de los que sobran”, la canción de Lo...</td>\n",
                            "      <td>1900.0</td>\n",
                            "      <td>2019-10-22 22:30:48</td>\n",
                            "      <td>la diaria</td>\n",
                            "    </tr>\n",
                            "    <tr>\n",
                            "      <th>249381</th>\n",
                            "      <td>Revolucionó la educación de Perú y ahora llega...</td>\n",
                            "      <td>1700.0</td>\n",
                            "      <td>2018-09-04 18:43:35</td>\n",
                            "      <td>EL PAÍS</td>\n",
                            "    </tr>\n",
                            "    <tr>\n",
                            "      <th>522490</th>\n",
                            "      <td>Nuestra portada de hoy</td>\n",
                            "      <td>1600.0</td>\n",
                            "      <td>2021-04-30 10:30:34</td>\n",
                            "      <td>la diaria</td>\n",
                            "    </tr>\n",
                            "    <tr>\n",
                            "      <th>207408</th>\n",
                            "      <td>La reacción del presidente electo  @LuisLacall...</td>\n",
                            "      <td>1400.0</td>\n",
                            "      <td>2019-12-02 16:25:46</td>\n",
                            "      <td>EL PAÍS</td>\n",
                            "    </tr>\n",
                            "    <tr>\n",
                            "      <th>327271</th>\n",
                            "      <td>Lacalle, en entrevista con  @todonoticias : \"L...</td>\n",
                            "      <td>1100.0</td>\n",
                            "      <td>2020-07-15 01:53:51</td>\n",
                            "      <td>EL PAÍS</td>\n",
                            "    </tr>\n",
                            "    <tr>\n",
                            "      <th>62699</th>\n",
                            "      <td>El tricolor es el club que ganó más torneos of...</td>\n",
                            "      <td>1100.0</td>\n",
                            "      <td>2017-04-01 12:45:00</td>\n",
                            "      <td>El Observador</td>\n",
                            "    </tr>\n",
                            "  </tbody>\n",
                            "</table>\n",
                            "</div>"
                        ],
                        "text/plain": [
                            "                                                    Tweet  RetweetCount  \\\n",
                            "263191  Tiene 12 años y fue becada para viajar a la NA...        4000.0   \n",
                            "345166  Bolsonaro cruzó la avenida de las leyes para s...        2600.0   \n",
                            "259344  Hinchas uruguayos se inspiraron en los japones...        2300.0   \n",
                            "240965  AHORA | El gobierno uruguayo no concederá asil...        2200.0   \n",
                            "556052  “El baile de los que sobran”, la canción de Lo...        1900.0   \n",
                            "249381  Revolucionó la educación de Perú y ahora llega...        1700.0   \n",
                            "522490                             Nuestra portada de hoy        1600.0   \n",
                            "207408  La reacción del presidente electo  @LuisLacall...        1400.0   \n",
                            "327271  Lacalle, en entrevista con  @todonoticias : \"L...        1100.0   \n",
                            "62699   El tricolor es el club que ganó más torneos of...        1100.0   \n",
                            "\n",
                            "                  PostDate           User  \n",
                            "263191 2018-05-13 10:07:06        EL PAÍS  \n",
                            "345166 2020-03-01 16:40:18        EL PAÍS  \n",
                            "259344 2018-06-20 17:44:55        EL PAÍS  \n",
                            "240965 2018-12-03 13:16:37        EL PAÍS  \n",
                            "556052 2019-10-22 22:30:48      la diaria  \n",
                            "249381 2018-09-04 18:43:35        EL PAÍS  \n",
                            "522490 2021-04-30 10:30:34      la diaria  \n",
                            "207408 2019-12-02 16:25:46        EL PAÍS  \n",
                            "327271 2020-07-15 01:53:51        EL PAÍS  \n",
                            "62699  2017-04-01 12:45:00  El Observador  "
                        ]
                    },
                    "execution_count": 60,
                    "metadata": {},
                    "output_type": "execute_result"
                }
            ],
            "source": [
                "#Los 10 tweets más retweeteados con fecha y autor\n",
                "df.sort_values(by='RetweetCount', ascending = False)[['Tweet', 'RetweetCount', 'PostDate', 'User']][:10]"
            ]
        },
        {
            "cell_type": "code",
            "execution_count": 61,
            "metadata": {},
            "outputs": [
                {
                    "data": {
                        "text/html": [
                            "<div>\n",
                            "<style scoped>\n",
                            "    .dataframe tbody tr th:only-of-type {\n",
                            "        vertical-align: middle;\n",
                            "    }\n",
                            "\n",
                            "    .dataframe tbody tr th {\n",
                            "        vertical-align: top;\n",
                            "    }\n",
                            "\n",
                            "    .dataframe thead th {\n",
                            "        text-align: right;\n",
                            "    }\n",
                            "</style>\n",
                            "<table border=\"1\" class=\"dataframe\">\n",
                            "  <thead>\n",
                            "    <tr style=\"text-align: right;\">\n",
                            "      <th></th>\n",
                            "      <th>Tweet</th>\n",
                            "      <th>LikeCount</th>\n",
                            "      <th>PostDate</th>\n",
                            "      <th>User</th>\n",
                            "    </tr>\n",
                            "  </thead>\n",
                            "  <tbody>\n",
                            "    <tr>\n",
                            "      <th>263191</th>\n",
                            "      <td>Tiene 12 años y fue becada para viajar a la NA...</td>\n",
                            "      <td>13700.0</td>\n",
                            "      <td>2018-05-13 10:07:06</td>\n",
                            "      <td>EL PAÍS</td>\n",
                            "    </tr>\n",
                            "    <tr>\n",
                            "      <th>345166</th>\n",
                            "      <td>Bolsonaro cruzó la avenida de las leyes para s...</td>\n",
                            "      <td>7200.0</td>\n",
                            "      <td>2020-03-01 16:40:18</td>\n",
                            "      <td>EL PAÍS</td>\n",
                            "    </tr>\n",
                            "    <tr>\n",
                            "      <th>259344</th>\n",
                            "      <td>Hinchas uruguayos se inspiraron en los japones...</td>\n",
                            "      <td>5800.0</td>\n",
                            "      <td>2018-06-20 17:44:55</td>\n",
                            "      <td>EL PAÍS</td>\n",
                            "    </tr>\n",
                            "    <tr>\n",
                            "      <th>240965</th>\n",
                            "      <td>AHORA | El gobierno uruguayo no concederá asil...</td>\n",
                            "      <td>3600.0</td>\n",
                            "      <td>2018-12-03 13:16:37</td>\n",
                            "      <td>EL PAÍS</td>\n",
                            "    </tr>\n",
                            "    <tr>\n",
                            "      <th>556052</th>\n",
                            "      <td>“El baile de los que sobran”, la canción de Lo...</td>\n",
                            "      <td>3600.0</td>\n",
                            "      <td>2019-10-22 22:30:48</td>\n",
                            "      <td>la diaria</td>\n",
                            "    </tr>\n",
                            "    <tr>\n",
                            "      <th>249381</th>\n",
                            "      <td>Revolucionó la educación de Perú y ahora llega...</td>\n",
                            "      <td>2700.0</td>\n",
                            "      <td>2018-09-04 18:43:35</td>\n",
                            "      <td>EL PAÍS</td>\n",
                            "    </tr>\n",
                            "    <tr>\n",
                            "      <th>522490</th>\n",
                            "      <td>Nuestra portada de hoy</td>\n",
                            "      <td>3400.0</td>\n",
                            "      <td>2021-04-30 10:30:34</td>\n",
                            "      <td>la diaria</td>\n",
                            "    </tr>\n",
                            "    <tr>\n",
                            "      <th>207408</th>\n",
                            "      <td>La reacción del presidente electo  @LuisLacall...</td>\n",
                            "      <td>1400.0</td>\n",
                            "      <td>2019-12-02 16:25:46</td>\n",
                            "      <td>EL PAÍS</td>\n",
                            "    </tr>\n",
                            "    <tr>\n",
                            "      <th>327271</th>\n",
                            "      <td>Lacalle, en entrevista con  @todonoticias : \"L...</td>\n",
                            "      <td>4800.0</td>\n",
                            "      <td>2020-07-15 01:53:51</td>\n",
                            "      <td>EL PAÍS</td>\n",
                            "    </tr>\n",
                            "    <tr>\n",
                            "      <th>62699</th>\n",
                            "      <td>El tricolor es el club que ganó más torneos of...</td>\n",
                            "      <td>947.0</td>\n",
                            "      <td>2017-04-01 12:45:00</td>\n",
                            "      <td>El Observador</td>\n",
                            "    </tr>\n",
                            "  </tbody>\n",
                            "</table>\n",
                            "</div>"
                        ],
                        "text/plain": [
                            "                                                    Tweet  LikeCount  \\\n",
                            "263191  Tiene 12 años y fue becada para viajar a la NA...    13700.0   \n",
                            "345166  Bolsonaro cruzó la avenida de las leyes para s...     7200.0   \n",
                            "259344  Hinchas uruguayos se inspiraron en los japones...     5800.0   \n",
                            "240965  AHORA | El gobierno uruguayo no concederá asil...     3600.0   \n",
                            "556052  “El baile de los que sobran”, la canción de Lo...     3600.0   \n",
                            "249381  Revolucionó la educación de Perú y ahora llega...     2700.0   \n",
                            "522490                             Nuestra portada de hoy     3400.0   \n",
                            "207408  La reacción del presidente electo  @LuisLacall...     1400.0   \n",
                            "327271  Lacalle, en entrevista con  @todonoticias : \"L...     4800.0   \n",
                            "62699   El tricolor es el club que ganó más torneos of...      947.0   \n",
                            "\n",
                            "                  PostDate           User  \n",
                            "263191 2018-05-13 10:07:06        EL PAÍS  \n",
                            "345166 2020-03-01 16:40:18        EL PAÍS  \n",
                            "259344 2018-06-20 17:44:55        EL PAÍS  \n",
                            "240965 2018-12-03 13:16:37        EL PAÍS  \n",
                            "556052 2019-10-22 22:30:48      la diaria  \n",
                            "249381 2018-09-04 18:43:35        EL PAÍS  \n",
                            "522490 2021-04-30 10:30:34      la diaria  \n",
                            "207408 2019-12-02 16:25:46        EL PAÍS  \n",
                            "327271 2020-07-15 01:53:51        EL PAÍS  \n",
                            "62699  2017-04-01 12:45:00  El Observador  "
                        ]
                    },
                    "execution_count": 61,
                    "metadata": {},
                    "output_type": "execute_result"
                }
            ],
            "source": [
                "#Los 10 tweets más likeados con fecha y autor\n",
                "df.sort_values(by='RetweetCount', ascending = False)[['Tweet', 'LikeCount', 'PostDate', 'User']][:10]"
            ]
        },
        {
            "cell_type": "code",
            "execution_count": 16,
            "metadata": {},
            "outputs": [
                {
                    "data": {
                        "image/png": "[encoded data removed]",
                        "text/plain": [
                            "<Figure size 432x288 with 1 Axes>"
                        ]
                    },
                    "metadata": {},
                    "output_type": "display_data"
                }
            ],
            "source": [
                "#Plot de la cantidad de likes según autor\n",
                "df.groupby('User').size().plot.bar(x='year',y='LikeCount',title='Cantidad de likes según autor', xlabel='Autor')\n",
                "plt.show()"
            ]
        },
        {
            "cell_type": "code",
            "execution_count": 17,
            "metadata": {},
            "outputs": [
                {
                    "data": {
                        "image/png": "[encoded data removed]",
                        "text/plain": [
                            "<Figure size 432x288 with 1 Axes>"
                        ]
                    },
                    "metadata": {},
                    "output_type": "display_data"
                }
            ],
            "source": [
                "#Plot de los retweets según autor\n",
                "df.groupby('User').size().plot.bar(x='year',y='RetweetCount',title='Cantidad de retweets según autor', xlabel='Autor')\n",
                "plt.show()"
            ]
        },
        {
            "cell_type": "code",
            "execution_count": 11,
            "metadata": {},
            "outputs": [
                {
                    "data": {
                        "text/html": [
                            "<div>\n",
                            "<style scoped>\n",
                            "    .dataframe tbody tr th:only-of-type {\n",
                            "        vertical-align: middle;\n",
                            "    }\n",
                            "\n",
                            "    .dataframe tbody tr th {\n",
                            "        vertical-align: top;\n",
                            "    }\n",
                            "\n",
                            "    .dataframe thead th {\n",
                            "        text-align: right;\n",
                            "    }\n",
                            "</style>\n",
                            "<table border=\"1\" class=\"dataframe\">\n",
                            "  <thead>\n",
                            "    <tr style=\"text-align: right;\">\n",
                            "      <th></th>\n",
                            "      <th>Tweet</th>\n",
                            "    </tr>\n",
                            "    <tr>\n",
                            "      <th>year</th>\n",
                            "      <th></th>\n",
                            "    </tr>\n",
                            "  </thead>\n",
                            "  <tbody>\n",
                            "    <tr>\n",
                            "      <th>2009</th>\n",
                            "      <td>3330</td>\n",
                            "    </tr>\n",
                            "    <tr>\n",
                            "      <th>2010</th>\n",
                            "      <td>9437</td>\n",
                            "    </tr>\n",
                            "    <tr>\n",
                            "      <th>2011</th>\n",
                            "      <td>6155</td>\n",
                            "    </tr>\n",
                            "    <tr>\n",
                            "      <th>2012</th>\n",
                            "      <td>14291</td>\n",
                            "    </tr>\n",
                            "    <tr>\n",
                            "      <th>2013</th>\n",
                            "      <td>12327</td>\n",
                            "    </tr>\n",
                            "    <tr>\n",
                            "      <th>2014</th>\n",
                            "      <td>15358</td>\n",
                            "    </tr>\n",
                            "    <tr>\n",
                            "      <th>2015</th>\n",
                            "      <td>17608</td>\n",
                            "    </tr>\n",
                            "    <tr>\n",
                            "      <th>2016</th>\n",
                            "      <td>29481</td>\n",
                            "    </tr>\n",
                            "    <tr>\n",
                            "      <th>2017</th>\n",
                            "      <td>32559</td>\n",
                            "    </tr>\n",
                            "    <tr>\n",
                            "      <th>2018</th>\n",
                            "      <td>37005</td>\n",
                            "    </tr>\n",
                            "    <tr>\n",
                            "      <th>2019</th>\n",
                            "      <td>33913</td>\n",
                            "    </tr>\n",
                            "    <tr>\n",
                            "      <th>2020</th>\n",
                            "      <td>53294</td>\n",
                            "    </tr>\n",
                            "    <tr>\n",
                            "      <th>2021</th>\n",
                            "      <td>22552</td>\n",
                            "    </tr>\n",
                            "  </tbody>\n",
                            "</table>\n",
                            "</div>"
                        ],
                        "text/plain": [
                            "      Tweet\n",
                            "year       \n",
                            "2009   3330\n",
                            "2010   9437\n",
                            "2011   6155\n",
                            "2012  14291\n",
                            "2013  12327\n",
                            "2014  15358\n",
                            "2015  17608\n",
                            "2016  29481\n",
                            "2017  32559\n",
                            "2018  37005\n",
                            "2019  33913\n",
                            "2020  53294\n",
                            "2021  22552"
                        ]
                    },
                    "execution_count": 11,
                    "metadata": {},
                    "output_type": "execute_result"
                }
            ],
            "source": [
                "#Cantidad de tweets del diario El País (el diario más activo en twitter) agrupados por año\n",
                "df[df['User']=='EL PAÍS'].groupby('year').agg({'Tweet':'size'})"
            ]
        },
        {
            "cell_type": "code",
            "execution_count": 81,
            "metadata": {},
            "outputs": [
                {
                    "data": {
                        "text/html": [
                            "<div>\n",
                            "<style scoped>\n",
                            "    .dataframe tbody tr th:only-of-type {\n",
                            "        vertical-align: middle;\n",
                            "    }\n",
                            "\n",
                            "    .dataframe tbody tr th {\n",
                            "        vertical-align: top;\n",
                            "    }\n",
                            "\n",
                            "    .dataframe thead th {\n",
                            "        text-align: right;\n",
                            "    }\n",
                            "</style>\n",
                            "<table border=\"1\" class=\"dataframe\">\n",
                            "  <thead>\n",
                            "    <tr style=\"text-align: right;\">\n",
                            "      <th></th>\n",
                            "      <th>RetweetCount</th>\n",
                            "    </tr>\n",
                            "    <tr>\n",
                            "      <th>year</th>\n",
                            "      <th></th>\n",
                            "    </tr>\n",
                            "  </thead>\n",
                            "  <tbody>\n",
                            "    <tr>\n",
                            "      <th>2009</th>\n",
                            "      <td>18.0</td>\n",
                            "    </tr>\n",
                            "    <tr>\n",
                            "      <th>2010</th>\n",
                            "      <td>1773.0</td>\n",
                            "    </tr>\n",
                            "    <tr>\n",
                            "      <th>2011</th>\n",
                            "      <td>5566.0</td>\n",
                            "    </tr>\n",
                            "    <tr>\n",
                            "      <th>2012</th>\n",
                            "      <td>29070.0</td>\n",
                            "    </tr>\n",
                            "    <tr>\n",
                            "      <th>2013</th>\n",
                            "      <td>30051.0</td>\n",
                            "    </tr>\n",
                            "    <tr>\n",
                            "      <th>2014</th>\n",
                            "      <td>92591.0</td>\n",
                            "    </tr>\n",
                            "    <tr>\n",
                            "      <th>2015</th>\n",
                            "      <td>112897.0</td>\n",
                            "    </tr>\n",
                            "    <tr>\n",
                            "      <th>2016</th>\n",
                            "      <td>182310.0</td>\n",
                            "    </tr>\n",
                            "    <tr>\n",
                            "      <th>2017</th>\n",
                            "      <td>169511.0</td>\n",
                            "    </tr>\n",
                            "    <tr>\n",
                            "      <th>2018</th>\n",
                            "      <td>169338.0</td>\n",
                            "    </tr>\n",
                            "    <tr>\n",
                            "      <th>2019</th>\n",
                            "      <td>163813.0</td>\n",
                            "    </tr>\n",
                            "    <tr>\n",
                            "      <th>2020</th>\n",
                            "      <td>310443.0</td>\n",
                            "    </tr>\n",
                            "    <tr>\n",
                            "      <th>2021</th>\n",
                            "      <td>81954.0</td>\n",
                            "    </tr>\n",
                            "  </tbody>\n",
                            "</table>\n",
                            "</div>"
                        ],
                        "text/plain": [
                            "      RetweetCount\n",
                            "year              \n",
                            "2009          18.0\n",
                            "2010        1773.0\n",
                            "2011        5566.0\n",
                            "2012       29070.0\n",
                            "2013       30051.0\n",
                            "2014       92591.0\n",
                            "2015      112897.0\n",
                            "2016      182310.0\n",
                            "2017      169511.0\n",
                            "2018      169338.0\n",
                            "2019      163813.0\n",
                            "2020      310443.0\n",
                            "2021       81954.0"
                        ]
                    },
                    "execution_count": 81,
                    "metadata": {},
                    "output_type": "execute_result"
                }
            ],
            "source": [
                "#Cantidad de retweets del diario El País (el diario más activo en twitter) agrupados por año\n",
                "df[df['User']=='EL PAÍS'].groupby('year').agg({'RetweetCount':'sum'})"
            ]
        },
        {
            "cell_type": "code",
            "execution_count": 22,
            "metadata": {},
            "outputs": [
                {
                    "data": {
                        "image/png": "[encoded data removed]",
                        "text/plain": [
                            "<Figure size 432x288 with 1 Axes>"
                        ]
                    },
                    "metadata": {},
                    "output_type": "display_data"
                }
            ],
            "source": [
                "#Plot de la cantidad de retweets del diario El País por año\n",
                "df[df['User']=='EL PAÍS'].groupby('year').agg({'RetweetCount':'sum'}).plot()\n",
                "plt.xlabel('Año')\n",
                "plt.title('Cantidad de retweets de El País')\n",
                "plt.show()"
            ]
        },
        {
            "cell_type": "code",
            "execution_count": 37,
            "metadata": {},
            "outputs": [
                {
                    "data": {
                        "text/plain": [
                            "de      714117\n",
                            "la      348808\n",
                            "en      335181\n",
                            "el      271087\n",
                            "y       246435\n",
                            "a       236333\n",
                            "que     200250\n",
                            "del     154718\n",
                            "los     123348\n",
                            "para    112114\n",
                            "dtype: Int64"
                        ]
                    },
                    "execution_count": 37,
                    "metadata": {},
                    "output_type": "execute_result"
                }
            ],
            "source": [
                "#Las 10 palabras que más se repiten (todas son stopwords, como era esperable)\n",
                "df['Tweet'].str.split(expand = True).stack().value_counts()[:10]"
            ]
        },
        {
            "cell_type": "markdown",
            "metadata": {},
            "source": [
                "## Data pre-processing"
            ]
        },
        {
            "cell_type": "code",
            "execution_count": null,
            "metadata": {},
            "outputs": [],
            "source": [
                "#Limpiamos el texto para poder extraer los stopwords:\n",
                "#1. Pasamos a minúsculas\n",
                "df['tweets_clean'] = df['Tweet'].str.lower()\n",
                "\n",
                "#stop_dict = stopwords.words('english')\n",
                "#df['text_clean'] = df['text_clean'].apply(lambda x: clean_stopwords(x, stop_dict = stop_dict)) \n",
                "#clean_stopwords es la función que importamos de textpreprocessing.py\n",
                "\n",
                "#Eliminamos URLs:\n",
                "url_pat = 'https://t.co/[A-Za-z\\d]+|&amp;'\n",
                "df['tweets_clean'] = df['tweets_clean'].str.replace(url_pat, '', regex = True)\n",
                "\n",
                "#Eliminamos caracteres especiales:\n",
                "df['tweets_clean'] = df['tweets_clean'].str.replace(r'''[!.,():\\-%$/'\"''&;'\\n\\n'#|']''', '', regex = True)"
            ]
        },
        {
            "cell_type": "code",
            "execution_count": 57,
            "metadata": {},
            "outputs": [],
            "source": [
                "def clean_stopwords(text: str,stop_dict: dict)->str:\n",
                "    if text is not None:\n",
                "        words = text.split()\n",
                "        words_clean = []\n",
                "        for word in words:\n",
                "            if word not in stop_dict:\n",
                "                words_clean.append(word)\n",
                "        result = ' '.join(words_clean)\n",
                "    else:\n",
                "        result = None\n",
                "    return result"
            ]
        },
        {
            "cell_type": "code",
            "execution_count": 63,
            "metadata": {},
            "outputs": [],
            "source": [
                "stop_dict = stopwords.words('spanish')\n",
                "df['tweets_clean'] = df['tweets_clean'].apply(lambda x: clean_stopwords(x, stop_dict = stop_dict)) "
            ]
        },
        {
            "cell_type": "code",
            "execution_count": null,
            "metadata": {},
            "outputs": [],
            "source": [
                "#Comprobamos que los cambios se hayan efectuado\n",
                "df.head(10)"
            ]
        },
        {
            "cell_type": "code",
            "execution_count": 42,
            "metadata": {},
            "outputs": [],
            "source": [
                "%%capture\n",
                "!pip install '../requirements.txt'"
            ]
        },
        {
            "cell_type": "code",
            "execution_count": 44,
            "metadata": {},
            "outputs": [
                {
                    "name": "stderr",
                    "output_type": "stream",
                    "text": [
                        "[nltk_data] Downloading package stopwords to /home/gitpod/nltk_data...\n",
                        "[nltk_data]   Unzipping corpora/stopwords.zip.\n"
                    ]
                }
            ],
            "source": [
                "import re\n",
                "import nltk\n",
                "nltk.download('stopwords')\n",
                "from nltk.corpus import stopwords"
            ]
        },
        {
            "cell_type": "code",
            "execution_count": 50,
            "metadata": {},
            "outputs": [
                {
                    "ename": "NameError",
                    "evalue": "name 'sentence' is not defined",
                    "output_type": "error",
                    "traceback": [
                        "\u001b[0;31m---------------------------------------------------------------------------\u001b[0m",
                        "\u001b[0;31mNameError\u001b[0m                                 Traceback (most recent call last)",
                        "\u001b[1;32m/workspace/4geeks-final-project/src/explore.ipynb Cell 30\u001b[0m in \u001b[0;36m<cell line: 1>\u001b[0;34m()\u001b[0m\n\u001b[0;32m----> <a href='vscode-notebook-cell://easyunderco-4geeksfinal-u1av26sfvtl.ws-us62.gitpod.io/workspace/4geeks-final-project/src/explore.ipynb#X60sdnNjb2RlLXJlbW90ZQ%3D%3D?line=0'>1</a>\u001b[0m words \u001b[39m=\u001b[39m re\u001b[39m.\u001b[39mfindall(\u001b[39mr\u001b[39m\u001b[39m'\u001b[39m\u001b[39m\\\u001b[39m\u001b[39mw+\u001b[39m\u001b[39m'\u001b[39m, sentence,flags \u001b[39m=\u001b[39m re\u001b[39m.\u001b[39mUNICODE \u001b[39m|\u001b[39m re\u001b[39m.\u001b[39mLOCALE) \n\u001b[1;32m      <a href='vscode-notebook-cell://easyunderco-4geeksfinal-u1av26sfvtl.ws-us62.gitpod.io/workspace/4geeks-final-project/src/explore.ipynb#X60sdnNjb2RlLXJlbW90ZQ%3D%3D?line=1'>2</a>\u001b[0m df[\u001b[39m'\u001b[39m\u001b[39mtweets_clean\u001b[39m\u001b[39m'\u001b[39m] \u001b[39m=\u001b[39m df[\u001b[39m'\u001b[39m\u001b[39mtweets_clean\u001b[39m\u001b[39m'\u001b[39m]\u001b[39m.\u001b[39mapply(\u001b[39mlambda\u001b[39;00m x: x \u001b[39mnot\u001b[39;00m \u001b[39min\u001b[39;00m stopwords\u001b[39m.\u001b[39mwords(\u001b[39m'\u001b[39m\u001b[39mspanish\u001b[39m\u001b[39m'\u001b[39m), words)\n",
                        "\u001b[0;31mNameError\u001b[0m: name 'sentence' is not defined"
                    ]
                }
            ],
            "source": []
        },
        {
            "cell_type": "markdown",
            "metadata": {},
            "source": [
                "# PRUEBAS NLP:"
            ]
        },
        {
            "cell_type": "code",
            "execution_count": 17,
            "metadata": {},
            "outputs": [
                {
                    "data": {
                        "text/plain": [
                            "Sentiment(polarity=0.0, subjectivity=0.0)"
                        ]
                    },
                    "execution_count": 17,
                    "metadata": {},
                    "output_type": "execute_result"
                }
            ],
            "source": [
                "#PRUEBA NLP CINDY\n",
                "from textblob import TextBlob\n",
                " \n",
                "TextBlob('La camiseta es bonita.').sentiment\n",
                "analysis1 = TextBlob(\"This table is black\")\n",
                "analysis2 = TextBlob(\"La camiseta es fea.\")\n",
                "analysis1.sentiment\n",
                "analysis2.sentiment\n"
            ]
        },
        {
            "cell_type": "code",
            "execution_count": null,
            "metadata": {},
            "outputs": [],
            "source": [
                "#PRUEBA NLP BELU:"
            ]
        },
        {
            "cell_type": "code",
            "execution_count": 28,
            "metadata": {},
            "outputs": [],
            "source": [
                "%%capture\n",
                "!pip install sentiment-analysis-spanish\n",
                "!pip install keras tensorflow"
            ]
        },
        {
            "cell_type": "code",
            "execution_count": 29,
            "metadata": {},
            "outputs": [],
            "source": [
                "from sentiment_analysis_spanish import sentiment_analysis"
            ]
        },
        {
            "cell_type": "code",
            "execution_count": 30,
            "metadata": {},
            "outputs": [
                {
                    "name": "stdout",
                    "output_type": "stream",
                    "text": [
                        "0.950769940243863\n"
                    ]
                },
                {
                    "name": "stderr",
                    "output_type": "stream",
                    "text": [
                        "/home/gitpod/.pyenv/versions/3.8.13/lib/python3.8/site-packages/sklearn/base.py:329: UserWarning: Trying to unpickle estimator CountVectorizer from version 0.23.2 when using version 1.1.2. This might lead to breaking code or invalid results. Use at your own risk. For more info please refer to:\n",
                        "https://scikit-learn.org/stable/model_persistence.html#security-maintainability-limitations\n",
                        "  warnings.warn(\n",
                        "/home/gitpod/.pyenv/versions/3.8.13/lib/python3.8/site-packages/sklearn/base.py:329: UserWarning: Trying to unpickle estimator MultinomialNB from version 0.23.2 when using version 1.1.2. This might lead to breaking code or invalid results. Use at your own risk. For more info please refer to:\n",
                        "https://scikit-learn.org/stable/model_persistence.html#security-maintainability-limitations\n",
                        "  warnings.warn(\n"
                    ]
                }
            ],
            "source": [
                "sentiment = sentiment_analysis.SentimentAnalysisSpanish()\n",
                "print(sentiment.sentiment(\"me gusta el café es genial\"))\n",
                "\n",
                "#The function sentiment(text) returns a number between 0 and 1. This is the probability of string variable text of being \"positive\". \n",
                "#Low probabilities mean that the text is negative (numbers close to 0)\n",
                "#High probabilities (numbers close to 1) mean that the text is positive. The space in between corespond to neutral texts."
            ]
        },
        {
            "cell_type": "code",
            "execution_count": null,
            "metadata": {},
            "outputs": [],
            "source": [
                "#PROBAR FASTTEXT"
            ]
        }
    ],
    "metadata": {
        "kernelspec": {
            "display_name": "Python 3.8.13 64-bit ('3.8.13')",
            "language": "python",
            "name": "python3"
        },
        "language_info": {
            "codemirror_mode": {
                "name": "ipython",
                "version": 3
            },
            "file_extension": ".py",
            "mimetype": "text/x-python",
            "name": "python",
            "nbconvert_exporter": "python",
            "pygments_lexer": "ipython3",
            "version": "3.8.13"
        },
        "orig_nbformat": 4,
        "vscode": {
            "interpreter": {
                "hash": "110cc1dee26208153f2972f08a2ad52b6a56238dc66d48e87fb757ef2996db56"
            }
        }
    },
    "nbformat": 4,
    "nbformat_minor": 2
}
