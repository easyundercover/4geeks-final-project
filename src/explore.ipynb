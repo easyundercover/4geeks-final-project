{
    "cells": [
        {
            "cell_type": "code",
            "execution_count": 1,
            "metadata": {},
            "outputs": [],
            "source": [
                "%%capture\n",
                "!pip install -r '../requirements.txt'"
            ]
        },
        {
            "cell_type": "code",
            "execution_count": 14,
            "metadata": {},
            "outputs": [],
            "source": [
                "#Importamos librerías\n",
                "import pandas as pd\n",
                "import numpy as np\n",
                "import matplotlib.pyplot as plt\n",
                "import plotly.express as px\n",
                "plt.style.use('seaborn-darkgrid')"
            ]
        },
        {
            "cell_type": "code",
            "execution_count": 86,
            "metadata": {},
            "outputs": [],
            "source": [
                "#Cargamos el dataset\n",
                "df_raw = pd.read_csv(\"../data/raw/full_info.csv\")"
            ]
        },
        {
            "cell_type": "code",
            "execution_count": 8,
            "metadata": {},
            "outputs": [
                {
                    "name": "stdout",
                    "output_type": "stream",
                    "text": [
                        "<class 'pandas.core.frame.DataFrame'>\n",
                        "RangeIndex: 728793 entries, 0 to 728792\n",
                        "Data columns (total 22 columns):\n",
                        " #   Column                      Non-Null Count   Dtype  \n",
                        "---  ------                      --------------   -----  \n",
                        " 0   TweetID                     728793 non-null  float64\n",
                        " 1   User                        728793 non-null  object \n",
                        " 2   Handle                      728793 non-null  object \n",
                        " 3   PostDate                    728793 non-null  object \n",
                        " 4   Tweet                       727496 non-null  object \n",
                        " 5   Attachment                  195613 non-null  object \n",
                        " 6   ReplyCount                  728793 non-null  float64\n",
                        " 7   RetweetCount                728793 non-null  float64\n",
                        " 8   LikeCount                   728793 non-null  float64\n",
                        " 9   TweetAndAttachment          727845 non-null  object \n",
                        " 10  PreprocessedEmbeddings      727842 non-null  object \n",
                        " 11  infered_label_cbow          728793 non-null  object \n",
                        " 12  PreprocessedNERs            727560 non-null  object \n",
                        " 13  TweetPreprocessedNERs       727050 non-null  object \n",
                        " 14  AttachmentPreprocessedNERs  195612 non-null  object \n",
                        " 15  LocalidadesSpacy            728793 non-null  object \n",
                        " 16  PersonasSpacy               728793 non-null  object \n",
                        " 17  OrganizacionesSpacy         728793 non-null  object \n",
                        " 18  LocalidadesStanza           728793 non-null  object \n",
                        " 19  PersonasStanza              728793 non-null  object \n",
                        " 20  OrganizacionesStanza        728793 non-null  object \n",
                        " 21  cluster                     728793 non-null  int64  \n",
                        "dtypes: float64(4), int64(1), object(17)\n",
                        "memory usage: 122.3+ MB\n"
                    ]
                }
            ],
            "source": [
                "#Información básica sobre el dataset\n",
                "df_raw.info()\n",
                "\n",
                "#22 variables, 728793 observaciones, hay valores nulos.\n",
                "#La columna tweet tiene 1297 valores nulos."
            ]
        },
        {
            "cell_type": "code",
            "execution_count": 7,
            "metadata": {},
            "outputs": [
                {
                    "data": {
                        "text/html": [
                            "<div>\n",
                            "<style scoped>\n",
                            "    .dataframe tbody tr th:only-of-type {\n",
                            "        vertical-align: middle;\n",
                            "    }\n",
                            "\n",
                            "    .dataframe tbody tr th {\n",
                            "        vertical-align: top;\n",
                            "    }\n",
                            "\n",
                            "    .dataframe thead th {\n",
                            "        text-align: right;\n",
                            "    }\n",
                            "</style>\n",
                            "<table border=\"1\" class=\"dataframe\">\n",
                            "  <thead>\n",
                            "    <tr style=\"text-align: right;\">\n",
                            "      <th></th>\n",
                            "      <th>TweetID</th>\n",
                            "      <th>User</th>\n",
                            "      <th>Handle</th>\n",
                            "      <th>PostDate</th>\n",
                            "      <th>Tweet</th>\n",
                            "      <th>Attachment</th>\n",
                            "      <th>ReplyCount</th>\n",
                            "      <th>RetweetCount</th>\n",
                            "      <th>LikeCount</th>\n",
                            "      <th>TweetAndAttachment</th>\n",
                            "      <th>...</th>\n",
                            "      <th>PreprocessedNERs</th>\n",
                            "      <th>TweetPreprocessedNERs</th>\n",
                            "      <th>AttachmentPreprocessedNERs</th>\n",
                            "      <th>LocalidadesSpacy</th>\n",
                            "      <th>PersonasSpacy</th>\n",
                            "      <th>OrganizacionesSpacy</th>\n",
                            "      <th>LocalidadesStanza</th>\n",
                            "      <th>PersonasStanza</th>\n",
                            "      <th>OrganizacionesStanza</th>\n",
                            "      <th>cluster</th>\n",
                            "    </tr>\n",
                            "  </thead>\n",
                            "  <tbody>\n",
                            "    <tr>\n",
                            "      <th>0</th>\n",
                            "      <td>5.498827e+17</td>\n",
                            "      <td>Brecha</td>\n",
                            "      <td>@SemanarioBrecha</td>\n",
                            "      <td>2014-12-30T11:00:21.000Z</td>\n",
                            "      <td>Brecha conversó sobre Aratirí con el subsecret...</td>\n",
                            "      <td>NaN</td>\n",
                            "      <td>0.0</td>\n",
                            "      <td>1.0</td>\n",
                            "      <td>0.0</td>\n",
                            "      <td>Brecha conversó sobre Aratirí con el subsecret...</td>\n",
                            "      <td>...</td>\n",
                            "      <td>Brecha conversó sobre Aratirí con el subsecret...</td>\n",
                            "      <td>Brecha conversó sobre Aratirí con el subsecret...</td>\n",
                            "      <td>NaN</td>\n",
                            "      <td>['Aratirí', 'Brecha']</td>\n",
                            "      <td>['Edgardo Ortuño', 'Industria']</td>\n",
                            "      <td>[]</td>\n",
                            "      <td>[]</td>\n",
                            "      <td>['Edgardo Ortuño', 'Brecha', 'Aratirí']</td>\n",
                            "      <td>[]</td>\n",
                            "      <td>8</td>\n",
                            "    </tr>\n",
                            "    <tr>\n",
                            "      <th>1</th>\n",
                            "      <td>5.496712e+17</td>\n",
                            "      <td>Brecha</td>\n",
                            "      <td>@SemanarioBrecha</td>\n",
                            "      <td>2014-12-29T21:00:09.000Z</td>\n",
                            "      <td>El personaje del inspector Maigret vendió más ...</td>\n",
                            "      <td>NaN</td>\n",
                            "      <td>0.0</td>\n",
                            "      <td>0.0</td>\n",
                            "      <td>4.0</td>\n",
                            "      <td>El personaje del inspector Maigret vendió más ...</td>\n",
                            "      <td>...</td>\n",
                            "      <td>El personaje del inspector Maigret vendió más ...</td>\n",
                            "      <td>El personaje del inspector Maigret vendió más ...</td>\n",
                            "      <td>NaN</td>\n",
                            "      <td>[]</td>\n",
                            "      <td>['Maigret']</td>\n",
                            "      <td>[]</td>\n",
                            "      <td>[]</td>\n",
                            "      <td>['Maigret']</td>\n",
                            "      <td>[]</td>\n",
                            "      <td>17</td>\n",
                            "    </tr>\n",
                            "    <tr>\n",
                            "      <th>2</th>\n",
                            "      <td>5.496103e+17</td>\n",
                            "      <td>Brecha</td>\n",
                            "      <td>@SemanarioBrecha</td>\n",
                            "      <td>2014-12-29T16:57:57.000Z</td>\n",
                            "      <td>Víctor Hugo Abelando analiza en esta nota las ...</td>\n",
                            "      <td>NaN</td>\n",
                            "      <td>0.0</td>\n",
                            "      <td>0.0</td>\n",
                            "      <td>0.0</td>\n",
                            "      <td>Víctor Hugo Abelando analiza en esta nota las ...</td>\n",
                            "      <td>...</td>\n",
                            "      <td>Víctor Hugo Abelando analiza en esta nota las ...</td>\n",
                            "      <td>Víctor Hugo Abelando analiza en esta nota las ...</td>\n",
                            "      <td>NaN</td>\n",
                            "      <td>[]</td>\n",
                            "      <td>['Víctor Hugo Abelando']</td>\n",
                            "      <td>['FA']</td>\n",
                            "      <td>[]</td>\n",
                            "      <td>['Víctor Hugo Abelando']</td>\n",
                            "      <td>['FA']</td>\n",
                            "      <td>8</td>\n",
                            "    </tr>\n",
                            "    <tr>\n",
                            "      <th>3</th>\n",
                            "      <td>5.495958e+17</td>\n",
                            "      <td>Brecha</td>\n",
                            "      <td>@SemanarioBrecha</td>\n",
                            "      <td>2014-12-29T16:00:19.000Z</td>\n",
                            "      <td>En España 7 personas están presas acusadas de ...</td>\n",
                            "      <td>NaN</td>\n",
                            "      <td>0.0</td>\n",
                            "      <td>0.0</td>\n",
                            "      <td>1.0</td>\n",
                            "      <td>En España 7 personas están presas acusadas de ...</td>\n",
                            "      <td>...</td>\n",
                            "      <td>En España 7 personas están presas acusadas de ...</td>\n",
                            "      <td>En España 7 personas están presas acusadas de ...</td>\n",
                            "      <td>NaN</td>\n",
                            "      <td>[]</td>\n",
                            "      <td>[]</td>\n",
                            "      <td>[]</td>\n",
                            "      <td>['España']</td>\n",
                            "      <td>[]</td>\n",
                            "      <td>[]</td>\n",
                            "      <td>11</td>\n",
                            "    </tr>\n",
                            "    <tr>\n",
                            "      <th>4</th>\n",
                            "      <td>5.495203e+17</td>\n",
                            "      <td>Brecha</td>\n",
                            "      <td>@SemanarioBrecha</td>\n",
                            "      <td>2014-12-29T11:00:18.000Z</td>\n",
                            "      <td>#Ajena en Mal Abrigo: una dimensión territoria...</td>\n",
                            "      <td>NaN</td>\n",
                            "      <td>0.0</td>\n",
                            "      <td>0.0</td>\n",
                            "      <td>1.0</td>\n",
                            "      <td>#Ajena en Mal Abrigo: una dimensión territoria...</td>\n",
                            "      <td>...</td>\n",
                            "      <td>#Ajena en Mal Abrigo: una dimensión territoria...</td>\n",
                            "      <td>#Ajena en Mal Abrigo: una dimensión territoria...</td>\n",
                            "      <td>NaN</td>\n",
                            "      <td>['Estado', 'Mal Abrigo']</td>\n",
                            "      <td>[]</td>\n",
                            "      <td>[]</td>\n",
                            "      <td>['Mal Abrigo']</td>\n",
                            "      <td>[]</td>\n",
                            "      <td>['Estado']</td>\n",
                            "      <td>14</td>\n",
                            "    </tr>\n",
                            "  </tbody>\n",
                            "</table>\n",
                            "<p>5 rows × 22 columns</p>\n",
                            "</div>"
                        ],
                        "text/plain": [
                            "        TweetID    User            Handle                  PostDate  \\\n",
                            "0  5.498827e+17  Brecha  @SemanarioBrecha  2014-12-30T11:00:21.000Z   \n",
                            "1  5.496712e+17  Brecha  @SemanarioBrecha  2014-12-29T21:00:09.000Z   \n",
                            "2  5.496103e+17  Brecha  @SemanarioBrecha  2014-12-29T16:57:57.000Z   \n",
                            "3  5.495958e+17  Brecha  @SemanarioBrecha  2014-12-29T16:00:19.000Z   \n",
                            "4  5.495203e+17  Brecha  @SemanarioBrecha  2014-12-29T11:00:18.000Z   \n",
                            "\n",
                            "                                               Tweet Attachment  ReplyCount  \\\n",
                            "0  Brecha conversó sobre Aratirí con el subsecret...        NaN         0.0   \n",
                            "1  El personaje del inspector Maigret vendió más ...        NaN         0.0   \n",
                            "2  Víctor Hugo Abelando analiza en esta nota las ...        NaN         0.0   \n",
                            "3  En España 7 personas están presas acusadas de ...        NaN         0.0   \n",
                            "4  #Ajena en Mal Abrigo: una dimensión territoria...        NaN         0.0   \n",
                            "\n",
                            "   RetweetCount  LikeCount                                 TweetAndAttachment  \\\n",
                            "0           1.0        0.0  Brecha conversó sobre Aratirí con el subsecret...   \n",
                            "1           0.0        4.0  El personaje del inspector Maigret vendió más ...   \n",
                            "2           0.0        0.0  Víctor Hugo Abelando analiza en esta nota las ...   \n",
                            "3           0.0        1.0  En España 7 personas están presas acusadas de ...   \n",
                            "4           0.0        1.0  #Ajena en Mal Abrigo: una dimensión territoria...   \n",
                            "\n",
                            "   ...                                   PreprocessedNERs  \\\n",
                            "0  ...  Brecha conversó sobre Aratirí con el subsecret...   \n",
                            "1  ...  El personaje del inspector Maigret vendió más ...   \n",
                            "2  ...  Víctor Hugo Abelando analiza en esta nota las ...   \n",
                            "3  ...  En España 7 personas están presas acusadas de ...   \n",
                            "4  ...  #Ajena en Mal Abrigo: una dimensión territoria...   \n",
                            "\n",
                            "                               TweetPreprocessedNERs  \\\n",
                            "0  Brecha conversó sobre Aratirí con el subsecret...   \n",
                            "1  El personaje del inspector Maigret vendió más ...   \n",
                            "2  Víctor Hugo Abelando analiza en esta nota las ...   \n",
                            "3  En España 7 personas están presas acusadas de ...   \n",
                            "4  #Ajena en Mal Abrigo: una dimensión territoria...   \n",
                            "\n",
                            "  AttachmentPreprocessedNERs          LocalidadesSpacy  \\\n",
                            "0                        NaN     ['Aratirí', 'Brecha']   \n",
                            "1                        NaN                        []   \n",
                            "2                        NaN                        []   \n",
                            "3                        NaN                        []   \n",
                            "4                        NaN  ['Estado', 'Mal Abrigo']   \n",
                            "\n",
                            "                     PersonasSpacy OrganizacionesSpacy LocalidadesStanza  \\\n",
                            "0  ['Edgardo Ortuño', 'Industria']                  []                []   \n",
                            "1                      ['Maigret']                  []                []   \n",
                            "2         ['Víctor Hugo Abelando']              ['FA']                []   \n",
                            "3                               []                  []        ['España']   \n",
                            "4                               []                  []    ['Mal Abrigo']   \n",
                            "\n",
                            "                            PersonasStanza OrganizacionesStanza cluster  \n",
                            "0  ['Edgardo Ortuño', 'Brecha', 'Aratirí']                   []       8  \n",
                            "1                              ['Maigret']                   []      17  \n",
                            "2                 ['Víctor Hugo Abelando']               ['FA']       8  \n",
                            "3                                       []                   []      11  \n",
                            "4                                       []           ['Estado']      14  \n",
                            "\n",
                            "[5 rows x 22 columns]"
                        ]
                    },
                    "execution_count": 7,
                    "metadata": {},
                    "output_type": "execute_result"
                }
            ],
            "source": [
                "df_raw.head()"
            ]
        },
        {
            "cell_type": "code",
            "execution_count": 87,
            "metadata": {},
            "outputs": [],
            "source": [
                "#Copiamos el df para hacer transformaciones\n",
                "df_interim = df_raw.copy()"
            ]
        },
        {
            "cell_type": "code",
            "execution_count": 88,
            "metadata": {},
            "outputs": [],
            "source": [
                "#Pasamos postdate a tipo fecha\n",
                "df_interim['PostDate'] = df_interim['PostDate'].astype('datetime64')\n",
                "#Pasamos tweets a tipo string\n",
                "df_interim['Tweet'] = df_interim['Tweet'].astype('string')"
            ]
        },
        {
            "cell_type": "code",
            "execution_count": 89,
            "metadata": {},
            "outputs": [],
            "source": [
                "#Nos quedamos con las variables relevantes para nuestro análisis\n",
                "df_interim = df_interim[['TweetID', 'User', 'Handle', 'PostDate', 'Tweet', 'ReplyCount', 'RetweetCount', 'LikeCount', 'PersonasSpacy']]"
            ]
        },
        {
            "cell_type": "code",
            "execution_count": 112,
            "metadata": {},
            "outputs": [],
            "source": [
                "#Creamos columnas con las fechas por separado\n",
                "df_interim['year'] = df_interim['PostDate'].dt.year\n",
                "df_interim['month'] = df_interim['PostDate'].dt.month\n",
                "df_interim['date'] = df_interim.apply(lambda x: x['PostDate'].strftime(\"%Y-%m-%d\"), axis=1)"
            ]
        },
        {
            "cell_type": "code",
            "execution_count": 116,
            "metadata": {},
            "outputs": [
                {
                    "data": {
                        "text/html": [
                            "<div>\n",
                            "<style scoped>\n",
                            "    .dataframe tbody tr th:only-of-type {\n",
                            "        vertical-align: middle;\n",
                            "    }\n",
                            "\n",
                            "    .dataframe tbody tr th {\n",
                            "        vertical-align: top;\n",
                            "    }\n",
                            "\n",
                            "    .dataframe thead th {\n",
                            "        text-align: right;\n",
                            "    }\n",
                            "</style>\n",
                            "<table border=\"1\" class=\"dataframe\">\n",
                            "  <thead>\n",
                            "    <tr style=\"text-align: right;\">\n",
                            "      <th></th>\n",
                            "      <th>TweetID</th>\n",
                            "      <th>User</th>\n",
                            "      <th>Handle</th>\n",
                            "      <th>PostDate</th>\n",
                            "      <th>Tweet</th>\n",
                            "      <th>ReplyCount</th>\n",
                            "      <th>RetweetCount</th>\n",
                            "      <th>LikeCount</th>\n",
                            "      <th>PersonasSpacy</th>\n",
                            "      <th>year</th>\n",
                            "      <th>month</th>\n",
                            "      <th>day</th>\n",
                            "    </tr>\n",
                            "  </thead>\n",
                            "  <tbody>\n",
                            "    <tr>\n",
                            "      <th>0</th>\n",
                            "      <td>5.498827e+17</td>\n",
                            "      <td>Brecha</td>\n",
                            "      <td>@SemanarioBrecha</td>\n",
                            "      <td>2014-12-30 11:00:21</td>\n",
                            "      <td>Brecha conversó sobre Aratirí con el subsecret...</td>\n",
                            "      <td>0.0</td>\n",
                            "      <td>1.0</td>\n",
                            "      <td>0.0</td>\n",
                            "      <td>['Edgardo Ortuño', 'Industria']</td>\n",
                            "      <td>2014</td>\n",
                            "      <td>12</td>\n",
                            "      <td>30</td>\n",
                            "    </tr>\n",
                            "    <tr>\n",
                            "      <th>1</th>\n",
                            "      <td>5.496712e+17</td>\n",
                            "      <td>Brecha</td>\n",
                            "      <td>@SemanarioBrecha</td>\n",
                            "      <td>2014-12-29 21:00:09</td>\n",
                            "      <td>El personaje del inspector Maigret vendió más ...</td>\n",
                            "      <td>0.0</td>\n",
                            "      <td>0.0</td>\n",
                            "      <td>4.0</td>\n",
                            "      <td>['Maigret']</td>\n",
                            "      <td>2014</td>\n",
                            "      <td>12</td>\n",
                            "      <td>29</td>\n",
                            "    </tr>\n",
                            "    <tr>\n",
                            "      <th>2</th>\n",
                            "      <td>5.496103e+17</td>\n",
                            "      <td>Brecha</td>\n",
                            "      <td>@SemanarioBrecha</td>\n",
                            "      <td>2014-12-29 16:57:57</td>\n",
                            "      <td>Víctor Hugo Abelando analiza en esta nota las ...</td>\n",
                            "      <td>0.0</td>\n",
                            "      <td>0.0</td>\n",
                            "      <td>0.0</td>\n",
                            "      <td>['Víctor Hugo Abelando']</td>\n",
                            "      <td>2014</td>\n",
                            "      <td>12</td>\n",
                            "      <td>29</td>\n",
                            "    </tr>\n",
                            "    <tr>\n",
                            "      <th>3</th>\n",
                            "      <td>5.495958e+17</td>\n",
                            "      <td>Brecha</td>\n",
                            "      <td>@SemanarioBrecha</td>\n",
                            "      <td>2014-12-29 16:00:19</td>\n",
                            "      <td>En España 7 personas están presas acusadas de ...</td>\n",
                            "      <td>0.0</td>\n",
                            "      <td>0.0</td>\n",
                            "      <td>1.0</td>\n",
                            "      <td>[]</td>\n",
                            "      <td>2014</td>\n",
                            "      <td>12</td>\n",
                            "      <td>29</td>\n",
                            "    </tr>\n",
                            "    <tr>\n",
                            "      <th>4</th>\n",
                            "      <td>5.495203e+17</td>\n",
                            "      <td>Brecha</td>\n",
                            "      <td>@SemanarioBrecha</td>\n",
                            "      <td>2014-12-29 11:00:18</td>\n",
                            "      <td>#Ajena en Mal Abrigo: una dimensión territoria...</td>\n",
                            "      <td>0.0</td>\n",
                            "      <td>0.0</td>\n",
                            "      <td>1.0</td>\n",
                            "      <td>[]</td>\n",
                            "      <td>2014</td>\n",
                            "      <td>12</td>\n",
                            "      <td>29</td>\n",
                            "    </tr>\n",
                            "  </tbody>\n",
                            "</table>\n",
                            "</div>"
                        ],
                        "text/plain": [
                            "        TweetID    User            Handle            PostDate  \\\n",
                            "0  5.498827e+17  Brecha  @SemanarioBrecha 2014-12-30 11:00:21   \n",
                            "1  5.496712e+17  Brecha  @SemanarioBrecha 2014-12-29 21:00:09   \n",
                            "2  5.496103e+17  Brecha  @SemanarioBrecha 2014-12-29 16:57:57   \n",
                            "3  5.495958e+17  Brecha  @SemanarioBrecha 2014-12-29 16:00:19   \n",
                            "4  5.495203e+17  Brecha  @SemanarioBrecha 2014-12-29 11:00:18   \n",
                            "\n",
                            "                                               Tweet  ReplyCount  \\\n",
                            "0  Brecha conversó sobre Aratirí con el subsecret...         0.0   \n",
                            "1  El personaje del inspector Maigret vendió más ...         0.0   \n",
                            "2  Víctor Hugo Abelando analiza en esta nota las ...         0.0   \n",
                            "3  En España 7 personas están presas acusadas de ...         0.0   \n",
                            "4  #Ajena en Mal Abrigo: una dimensión territoria...         0.0   \n",
                            "\n",
                            "   RetweetCount  LikeCount                    PersonasSpacy  year  month  day  \n",
                            "0           1.0        0.0  ['Edgardo Ortuño', 'Industria']  2014     12   30  \n",
                            "1           0.0        4.0                      ['Maigret']  2014     12   29  \n",
                            "2           0.0        0.0         ['Víctor Hugo Abelando']  2014     12   29  \n",
                            "3           0.0        1.0                               []  2014     12   29  \n",
                            "4           0.0        1.0                               []  2014     12   29  "
                        ]
                    },
                    "execution_count": 116,
                    "metadata": {},
                    "output_type": "execute_result"
                }
            ],
            "source": [
                "df_interim.head()"
            ]
        },
        {
            "cell_type": "code",
            "execution_count": 60,
            "metadata": {},
            "outputs": [],
            "source": [
                "#Eliminamos los valores nulos de la columna tweets\n",
                "df_interim = df_interim.dropna(axis=0)"
            ]
        },
        {
            "cell_type": "code",
            "execution_count": 113,
            "metadata": {},
            "outputs": [],
            "source": [
                "#Copiamos el dataframe para hacer EDA\n",
                "df = df_interim.copy()"
            ]
        },
        {
            "cell_type": "markdown",
            "metadata": {},
            "source": [
                "## Exploratory Data Analysis\n"
            ]
        },
        {
            "cell_type": "code",
            "execution_count": 128,
            "metadata": {},
            "outputs": [
                {
                    "data": {
                        "text/plain": [
                            "array(['Brecha', 'BÚSQUEDA', 'El Observador', 'EL PAÍS', 'la diaria',\n",
                            "       'La República'], dtype=object)"
                        ]
                    },
                    "execution_count": 128,
                    "metadata": {},
                    "output_type": "execute_result"
                }
            ],
            "source": [
                "#Cantidad de medios distintos\n",
                "df['User'].unique()"
            ]
        },
        {
            "cell_type": "code",
            "execution_count": 20,
            "metadata": {},
            "outputs": [
                {
                    "data": {
                        "text/html": [
                            "<div>\n",
                            "<style scoped>\n",
                            "    .dataframe tbody tr th:only-of-type {\n",
                            "        vertical-align: middle;\n",
                            "    }\n",
                            "\n",
                            "    .dataframe tbody tr th {\n",
                            "        vertical-align: top;\n",
                            "    }\n",
                            "\n",
                            "    .dataframe thead th {\n",
                            "        text-align: right;\n",
                            "    }\n",
                            "</style>\n",
                            "<table border=\"1\" class=\"dataframe\">\n",
                            "  <thead>\n",
                            "    <tr style=\"text-align: right;\">\n",
                            "      <th></th>\n",
                            "      <th>User</th>\n",
                            "      <th>Count</th>\n",
                            "    </tr>\n",
                            "  </thead>\n",
                            "  <tbody>\n",
                            "    <tr>\n",
                            "      <th>2</th>\n",
                            "      <td>EL PAÍS</td>\n",
                            "      <td>287310</td>\n",
                            "    </tr>\n",
                            "    <tr>\n",
                            "      <th>3</th>\n",
                            "      <td>El Observador</td>\n",
                            "      <td>165246</td>\n",
                            "    </tr>\n",
                            "    <tr>\n",
                            "      <th>4</th>\n",
                            "      <td>La República</td>\n",
                            "      <td>155983</td>\n",
                            "    </tr>\n",
                            "    <tr>\n",
                            "      <th>5</th>\n",
                            "      <td>la diaria</td>\n",
                            "      <td>80520</td>\n",
                            "    </tr>\n",
                            "    <tr>\n",
                            "      <th>1</th>\n",
                            "      <td>BÚSQUEDA</td>\n",
                            "      <td>27301</td>\n",
                            "    </tr>\n",
                            "    <tr>\n",
                            "      <th>0</th>\n",
                            "      <td>Brecha</td>\n",
                            "      <td>12433</td>\n",
                            "    </tr>\n",
                            "  </tbody>\n",
                            "</table>\n",
                            "</div>"
                        ],
                        "text/plain": [
                            "            User   Count\n",
                            "2        EL PAÍS  287310\n",
                            "3  El Observador  165246\n",
                            "4   La República  155983\n",
                            "5      la diaria   80520\n",
                            "1       BÚSQUEDA   27301\n",
                            "0         Brecha   12433"
                        ]
                    },
                    "execution_count": 20,
                    "metadata": {},
                    "output_type": "execute_result"
                }
            ],
            "source": [
                "#Cantidad de tweets totales según medio de comunicación\n",
                "df.groupby('User').size().reset_index(name='Count').sort_values(by='Count',ascending=False)"
            ]
        },
        {
            "cell_type": "code",
            "execution_count": 11,
            "metadata": {},
            "outputs": [
                {
                    "data": {
                        "text/html": [
                            "<div>\n",
                            "<style scoped>\n",
                            "    .dataframe tbody tr th:only-of-type {\n",
                            "        vertical-align: middle;\n",
                            "    }\n",
                            "\n",
                            "    .dataframe tbody tr th {\n",
                            "        vertical-align: top;\n",
                            "    }\n",
                            "\n",
                            "    .dataframe thead th {\n",
                            "        text-align: right;\n",
                            "    }\n",
                            "</style>\n",
                            "<table border=\"1\" class=\"dataframe\">\n",
                            "  <thead>\n",
                            "    <tr style=\"text-align: right;\">\n",
                            "      <th></th>\n",
                            "      <th>ReplyCount</th>\n",
                            "      <th>RetweetCount</th>\n",
                            "      <th>LikeCount</th>\n",
                            "    </tr>\n",
                            "  </thead>\n",
                            "  <tbody>\n",
                            "    <tr>\n",
                            "      <th>count</th>\n",
                            "      <td>728793.000000</td>\n",
                            "      <td>728793.000000</td>\n",
                            "      <td>728793.000000</td>\n",
                            "    </tr>\n",
                            "    <tr>\n",
                            "      <th>mean</th>\n",
                            "      <td>1.575720</td>\n",
                            "      <td>4.318377</td>\n",
                            "      <td>8.037504</td>\n",
                            "    </tr>\n",
                            "    <tr>\n",
                            "      <th>std</th>\n",
                            "      <td>7.752874</td>\n",
                            "      <td>16.592098</td>\n",
                            "      <td>41.372540</td>\n",
                            "    </tr>\n",
                            "    <tr>\n",
                            "      <th>min</th>\n",
                            "      <td>0.000000</td>\n",
                            "      <td>0.000000</td>\n",
                            "      <td>0.000000</td>\n",
                            "    </tr>\n",
                            "    <tr>\n",
                            "      <th>25%</th>\n",
                            "      <td>0.000000</td>\n",
                            "      <td>0.000000</td>\n",
                            "      <td>1.000000</td>\n",
                            "    </tr>\n",
                            "    <tr>\n",
                            "      <th>50%</th>\n",
                            "      <td>0.000000</td>\n",
                            "      <td>2.000000</td>\n",
                            "      <td>2.000000</td>\n",
                            "    </tr>\n",
                            "    <tr>\n",
                            "      <th>75%</th>\n",
                            "      <td>1.000000</td>\n",
                            "      <td>4.000000</td>\n",
                            "      <td>6.000000</td>\n",
                            "    </tr>\n",
                            "    <tr>\n",
                            "      <th>max</th>\n",
                            "      <td>952.000000</td>\n",
                            "      <td>4000.000000</td>\n",
                            "      <td>13700.000000</td>\n",
                            "    </tr>\n",
                            "  </tbody>\n",
                            "</table>\n",
                            "</div>"
                        ],
                        "text/plain": [
                            "          ReplyCount   RetweetCount      LikeCount\n",
                            "count  728793.000000  728793.000000  728793.000000\n",
                            "mean        1.575720       4.318377       8.037504\n",
                            "std         7.752874      16.592098      41.372540\n",
                            "min         0.000000       0.000000       0.000000\n",
                            "25%         0.000000       0.000000       1.000000\n",
                            "50%         0.000000       2.000000       2.000000\n",
                            "75%         1.000000       4.000000       6.000000\n",
                            "max       952.000000    4000.000000   13700.000000"
                        ]
                    },
                    "execution_count": 11,
                    "metadata": {},
                    "output_type": "execute_result"
                }
            ],
            "source": [
                "#Estadísticas descriptivas de las variables numéricas\n",
                "df[['ReplyCount', 'RetweetCount', 'LikeCount']].describe()"
            ]
        },
        {
            "cell_type": "code",
            "execution_count": 15,
            "metadata": {},
            "outputs": [
                {
                    "data": {
                        "image/png": "[encoded data removed]",
                        "text/plain": [
                            "<Figure size 864x432 with 4 Axes>"
                        ]
                    },
                    "metadata": {},
                    "output_type": "display_data"
                }
            ],
            "source": [
                "#Histograma de las variables numéricas\n",
                "df[['LikeCount', 'ReplyCount', 'RetweetCount']].hist(figsize= (12, 6))\n",
                "plt.show()"
            ]
        },
        {
            "cell_type": "code",
            "execution_count": 14,
            "metadata": {},
            "outputs": [
                {
                    "data": {
                        "text/html": [
                            "<div>\n",
                            "<style scoped>\n",
                            "    .dataframe tbody tr th:only-of-type {\n",
                            "        vertical-align: middle;\n",
                            "    }\n",
                            "\n",
                            "    .dataframe tbody tr th {\n",
                            "        vertical-align: top;\n",
                            "    }\n",
                            "\n",
                            "    .dataframe thead th {\n",
                            "        text-align: right;\n",
                            "    }\n",
                            "</style>\n",
                            "<table border=\"1\" class=\"dataframe\">\n",
                            "  <thead>\n",
                            "    <tr style=\"text-align: right;\">\n",
                            "      <th></th>\n",
                            "      <th>year</th>\n",
                            "      <th>User</th>\n",
                            "      <th>Count</th>\n",
                            "    </tr>\n",
                            "  </thead>\n",
                            "  <tbody>\n",
                            "    <tr>\n",
                            "      <th>64</th>\n",
                            "      <td>2021</td>\n",
                            "      <td>la diaria</td>\n",
                            "      <td>10084</td>\n",
                            "    </tr>\n",
                            "    <tr>\n",
                            "      <th>63</th>\n",
                            "      <td>2021</td>\n",
                            "      <td>La República</td>\n",
                            "      <td>8857</td>\n",
                            "    </tr>\n",
                            "    <tr>\n",
                            "      <th>62</th>\n",
                            "      <td>2021</td>\n",
                            "      <td>El Observador</td>\n",
                            "      <td>11129</td>\n",
                            "    </tr>\n",
                            "    <tr>\n",
                            "      <th>61</th>\n",
                            "      <td>2021</td>\n",
                            "      <td>EL PAÍS</td>\n",
                            "      <td>22552</td>\n",
                            "    </tr>\n",
                            "    <tr>\n",
                            "      <th>60</th>\n",
                            "      <td>2021</td>\n",
                            "      <td>BÚSQUEDA</td>\n",
                            "      <td>1145</td>\n",
                            "    </tr>\n",
                            "    <tr>\n",
                            "      <th>59</th>\n",
                            "      <td>2021</td>\n",
                            "      <td>Brecha</td>\n",
                            "      <td>533</td>\n",
                            "    </tr>\n",
                            "    <tr>\n",
                            "      <th>58</th>\n",
                            "      <td>2020</td>\n",
                            "      <td>la diaria</td>\n",
                            "      <td>20495</td>\n",
                            "    </tr>\n",
                            "    <tr>\n",
                            "      <th>57</th>\n",
                            "      <td>2020</td>\n",
                            "      <td>La República</td>\n",
                            "      <td>19493</td>\n",
                            "    </tr>\n",
                            "    <tr>\n",
                            "      <th>56</th>\n",
                            "      <td>2020</td>\n",
                            "      <td>El Observador</td>\n",
                            "      <td>31426</td>\n",
                            "    </tr>\n",
                            "    <tr>\n",
                            "      <th>55</th>\n",
                            "      <td>2020</td>\n",
                            "      <td>EL PAÍS</td>\n",
                            "      <td>53294</td>\n",
                            "    </tr>\n",
                            "    <tr>\n",
                            "      <th>54</th>\n",
                            "      <td>2020</td>\n",
                            "      <td>BÚSQUEDA</td>\n",
                            "      <td>3194</td>\n",
                            "    </tr>\n",
                            "    <tr>\n",
                            "      <th>53</th>\n",
                            "      <td>2020</td>\n",
                            "      <td>Brecha</td>\n",
                            "      <td>1720</td>\n",
                            "    </tr>\n",
                            "  </tbody>\n",
                            "</table>\n",
                            "</div>"
                        ],
                        "text/plain": [
                            "    year           User  Count\n",
                            "64  2021      la diaria  10084\n",
                            "63  2021   La República   8857\n",
                            "62  2021  El Observador  11129\n",
                            "61  2021        EL PAÍS  22552\n",
                            "60  2021       BÚSQUEDA   1145\n",
                            "59  2021         Brecha    533\n",
                            "58  2020      la diaria  20495\n",
                            "57  2020   La República  19493\n",
                            "56  2020  El Observador  31426\n",
                            "55  2020        EL PAÍS  53294\n",
                            "54  2020       BÚSQUEDA   3194\n",
                            "53  2020         Brecha   1720"
                        ]
                    },
                    "execution_count": 14,
                    "metadata": {},
                    "output_type": "execute_result"
                }
            ],
            "source": [
                "#Cantidad de tweets correspondientes a los años 2020 y 2021 según medio de comunicación\n",
                "df.groupby(['year','User']).size().reset_index(name='Count').sort_values(by=(['year', 'User']),ascending=False)[:12]"
            ]
        },
        {
            "cell_type": "code",
            "execution_count": 60,
            "metadata": {},
            "outputs": [
                {
                    "data": {
                        "text/html": [
                            "<div>\n",
                            "<style scoped>\n",
                            "    .dataframe tbody tr th:only-of-type {\n",
                            "        vertical-align: middle;\n",
                            "    }\n",
                            "\n",
                            "    .dataframe tbody tr th {\n",
                            "        vertical-align: top;\n",
                            "    }\n",
                            "\n",
                            "    .dataframe thead th {\n",
                            "        text-align: right;\n",
                            "    }\n",
                            "</style>\n",
                            "<table border=\"1\" class=\"dataframe\">\n",
                            "  <thead>\n",
                            "    <tr style=\"text-align: right;\">\n",
                            "      <th></th>\n",
                            "      <th>Tweet</th>\n",
                            "      <th>RetweetCount</th>\n",
                            "      <th>PostDate</th>\n",
                            "      <th>User</th>\n",
                            "    </tr>\n",
                            "  </thead>\n",
                            "  <tbody>\n",
                            "    <tr>\n",
                            "      <th>263191</th>\n",
                            "      <td>Tiene 12 años y fue becada para viajar a la NA...</td>\n",
                            "      <td>4000.0</td>\n",
                            "      <td>2018-05-13 10:07:06</td>\n",
                            "      <td>EL PAÍS</td>\n",
                            "    </tr>\n",
                            "    <tr>\n",
                            "      <th>345166</th>\n",
                            "      <td>Bolsonaro cruzó la avenida de las leyes para s...</td>\n",
                            "      <td>2600.0</td>\n",
                            "      <td>2020-03-01 16:40:18</td>\n",
                            "      <td>EL PAÍS</td>\n",
                            "    </tr>\n",
                            "    <tr>\n",
                            "      <th>259344</th>\n",
                            "      <td>Hinchas uruguayos se inspiraron en los japones...</td>\n",
                            "      <td>2300.0</td>\n",
                            "      <td>2018-06-20 17:44:55</td>\n",
                            "      <td>EL PAÍS</td>\n",
                            "    </tr>\n",
                            "    <tr>\n",
                            "      <th>240965</th>\n",
                            "      <td>AHORA | El gobierno uruguayo no concederá asil...</td>\n",
                            "      <td>2200.0</td>\n",
                            "      <td>2018-12-03 13:16:37</td>\n",
                            "      <td>EL PAÍS</td>\n",
                            "    </tr>\n",
                            "    <tr>\n",
                            "      <th>556052</th>\n",
                            "      <td>“El baile de los que sobran”, la canción de Lo...</td>\n",
                            "      <td>1900.0</td>\n",
                            "      <td>2019-10-22 22:30:48</td>\n",
                            "      <td>la diaria</td>\n",
                            "    </tr>\n",
                            "    <tr>\n",
                            "      <th>249381</th>\n",
                            "      <td>Revolucionó la educación de Perú y ahora llega...</td>\n",
                            "      <td>1700.0</td>\n",
                            "      <td>2018-09-04 18:43:35</td>\n",
                            "      <td>EL PAÍS</td>\n",
                            "    </tr>\n",
                            "    <tr>\n",
                            "      <th>522490</th>\n",
                            "      <td>Nuestra portada de hoy</td>\n",
                            "      <td>1600.0</td>\n",
                            "      <td>2021-04-30 10:30:34</td>\n",
                            "      <td>la diaria</td>\n",
                            "    </tr>\n",
                            "    <tr>\n",
                            "      <th>207408</th>\n",
                            "      <td>La reacción del presidente electo  @LuisLacall...</td>\n",
                            "      <td>1400.0</td>\n",
                            "      <td>2019-12-02 16:25:46</td>\n",
                            "      <td>EL PAÍS</td>\n",
                            "    </tr>\n",
                            "    <tr>\n",
                            "      <th>327271</th>\n",
                            "      <td>Lacalle, en entrevista con  @todonoticias : \"L...</td>\n",
                            "      <td>1100.0</td>\n",
                            "      <td>2020-07-15 01:53:51</td>\n",
                            "      <td>EL PAÍS</td>\n",
                            "    </tr>\n",
                            "    <tr>\n",
                            "      <th>62699</th>\n",
                            "      <td>El tricolor es el club que ganó más torneos of...</td>\n",
                            "      <td>1100.0</td>\n",
                            "      <td>2017-04-01 12:45:00</td>\n",
                            "      <td>El Observador</td>\n",
                            "    </tr>\n",
                            "  </tbody>\n",
                            "</table>\n",
                            "</div>"
                        ],
                        "text/plain": [
                            "                                                    Tweet  RetweetCount  \\\n",
                            "263191  Tiene 12 años y fue becada para viajar a la NA...        4000.0   \n",
                            "345166  Bolsonaro cruzó la avenida de las leyes para s...        2600.0   \n",
                            "259344  Hinchas uruguayos se inspiraron en los japones...        2300.0   \n",
                            "240965  AHORA | El gobierno uruguayo no concederá asil...        2200.0   \n",
                            "556052  “El baile de los que sobran”, la canción de Lo...        1900.0   \n",
                            "249381  Revolucionó la educación de Perú y ahora llega...        1700.0   \n",
                            "522490                             Nuestra portada de hoy        1600.0   \n",
                            "207408  La reacción del presidente electo  @LuisLacall...        1400.0   \n",
                            "327271  Lacalle, en entrevista con  @todonoticias : \"L...        1100.0   \n",
                            "62699   El tricolor es el club que ganó más torneos of...        1100.0   \n",
                            "\n",
                            "                  PostDate           User  \n",
                            "263191 2018-05-13 10:07:06        EL PAÍS  \n",
                            "345166 2020-03-01 16:40:18        EL PAÍS  \n",
                            "259344 2018-06-20 17:44:55        EL PAÍS  \n",
                            "240965 2018-12-03 13:16:37        EL PAÍS  \n",
                            "556052 2019-10-22 22:30:48      la diaria  \n",
                            "249381 2018-09-04 18:43:35        EL PAÍS  \n",
                            "522490 2021-04-30 10:30:34      la diaria  \n",
                            "207408 2019-12-02 16:25:46        EL PAÍS  \n",
                            "327271 2020-07-15 01:53:51        EL PAÍS  \n",
                            "62699  2017-04-01 12:45:00  El Observador  "
                        ]
                    },
                    "execution_count": 60,
                    "metadata": {},
                    "output_type": "execute_result"
                }
            ],
            "source": [
                "#Los 10 tweets más retweeteados con fecha y autor\n",
                "df.sort_values(by='RetweetCount', ascending = False)[['Tweet', 'RetweetCount', 'PostDate', 'User']][:10]"
            ]
        },
        {
            "cell_type": "code",
            "execution_count": 61,
            "metadata": {},
            "outputs": [
                {
                    "data": {
                        "text/html": [
                            "<div>\n",
                            "<style scoped>\n",
                            "    .dataframe tbody tr th:only-of-type {\n",
                            "        vertical-align: middle;\n",
                            "    }\n",
                            "\n",
                            "    .dataframe tbody tr th {\n",
                            "        vertical-align: top;\n",
                            "    }\n",
                            "\n",
                            "    .dataframe thead th {\n",
                            "        text-align: right;\n",
                            "    }\n",
                            "</style>\n",
                            "<table border=\"1\" class=\"dataframe\">\n",
                            "  <thead>\n",
                            "    <tr style=\"text-align: right;\">\n",
                            "      <th></th>\n",
                            "      <th>Tweet</th>\n",
                            "      <th>LikeCount</th>\n",
                            "      <th>PostDate</th>\n",
                            "      <th>User</th>\n",
                            "    </tr>\n",
                            "  </thead>\n",
                            "  <tbody>\n",
                            "    <tr>\n",
                            "      <th>263191</th>\n",
                            "      <td>Tiene 12 años y fue becada para viajar a la NA...</td>\n",
                            "      <td>13700.0</td>\n",
                            "      <td>2018-05-13 10:07:06</td>\n",
                            "      <td>EL PAÍS</td>\n",
                            "    </tr>\n",
                            "    <tr>\n",
                            "      <th>345166</th>\n",
                            "      <td>Bolsonaro cruzó la avenida de las leyes para s...</td>\n",
                            "      <td>7200.0</td>\n",
                            "      <td>2020-03-01 16:40:18</td>\n",
                            "      <td>EL PAÍS</td>\n",
                            "    </tr>\n",
                            "    <tr>\n",
                            "      <th>259344</th>\n",
                            "      <td>Hinchas uruguayos se inspiraron en los japones...</td>\n",
                            "      <td>5800.0</td>\n",
                            "      <td>2018-06-20 17:44:55</td>\n",
                            "      <td>EL PAÍS</td>\n",
                            "    </tr>\n",
                            "    <tr>\n",
                            "      <th>240965</th>\n",
                            "      <td>AHORA | El gobierno uruguayo no concederá asil...</td>\n",
                            "      <td>3600.0</td>\n",
                            "      <td>2018-12-03 13:16:37</td>\n",
                            "      <td>EL PAÍS</td>\n",
                            "    </tr>\n",
                            "    <tr>\n",
                            "      <th>556052</th>\n",
                            "      <td>“El baile de los que sobran”, la canción de Lo...</td>\n",
                            "      <td>3600.0</td>\n",
                            "      <td>2019-10-22 22:30:48</td>\n",
                            "      <td>la diaria</td>\n",
                            "    </tr>\n",
                            "    <tr>\n",
                            "      <th>249381</th>\n",
                            "      <td>Revolucionó la educación de Perú y ahora llega...</td>\n",
                            "      <td>2700.0</td>\n",
                            "      <td>2018-09-04 18:43:35</td>\n",
                            "      <td>EL PAÍS</td>\n",
                            "    </tr>\n",
                            "    <tr>\n",
                            "      <th>522490</th>\n",
                            "      <td>Nuestra portada de hoy</td>\n",
                            "      <td>3400.0</td>\n",
                            "      <td>2021-04-30 10:30:34</td>\n",
                            "      <td>la diaria</td>\n",
                            "    </tr>\n",
                            "    <tr>\n",
                            "      <th>207408</th>\n",
                            "      <td>La reacción del presidente electo  @LuisLacall...</td>\n",
                            "      <td>1400.0</td>\n",
                            "      <td>2019-12-02 16:25:46</td>\n",
                            "      <td>EL PAÍS</td>\n",
                            "    </tr>\n",
                            "    <tr>\n",
                            "      <th>327271</th>\n",
                            "      <td>Lacalle, en entrevista con  @todonoticias : \"L...</td>\n",
                            "      <td>4800.0</td>\n",
                            "      <td>2020-07-15 01:53:51</td>\n",
                            "      <td>EL PAÍS</td>\n",
                            "    </tr>\n",
                            "    <tr>\n",
                            "      <th>62699</th>\n",
                            "      <td>El tricolor es el club que ganó más torneos of...</td>\n",
                            "      <td>947.0</td>\n",
                            "      <td>2017-04-01 12:45:00</td>\n",
                            "      <td>El Observador</td>\n",
                            "    </tr>\n",
                            "  </tbody>\n",
                            "</table>\n",
                            "</div>"
                        ],
                        "text/plain": [
                            "                                                    Tweet  LikeCount  \\\n",
                            "263191  Tiene 12 años y fue becada para viajar a la NA...    13700.0   \n",
                            "345166  Bolsonaro cruzó la avenida de las leyes para s...     7200.0   \n",
                            "259344  Hinchas uruguayos se inspiraron en los japones...     5800.0   \n",
                            "240965  AHORA | El gobierno uruguayo no concederá asil...     3600.0   \n",
                            "556052  “El baile de los que sobran”, la canción de Lo...     3600.0   \n",
                            "249381  Revolucionó la educación de Perú y ahora llega...     2700.0   \n",
                            "522490                             Nuestra portada de hoy     3400.0   \n",
                            "207408  La reacción del presidente electo  @LuisLacall...     1400.0   \n",
                            "327271  Lacalle, en entrevista con  @todonoticias : \"L...     4800.0   \n",
                            "62699   El tricolor es el club que ganó más torneos of...      947.0   \n",
                            "\n",
                            "                  PostDate           User  \n",
                            "263191 2018-05-13 10:07:06        EL PAÍS  \n",
                            "345166 2020-03-01 16:40:18        EL PAÍS  \n",
                            "259344 2018-06-20 17:44:55        EL PAÍS  \n",
                            "240965 2018-12-03 13:16:37        EL PAÍS  \n",
                            "556052 2019-10-22 22:30:48      la diaria  \n",
                            "249381 2018-09-04 18:43:35        EL PAÍS  \n",
                            "522490 2021-04-30 10:30:34      la diaria  \n",
                            "207408 2019-12-02 16:25:46        EL PAÍS  \n",
                            "327271 2020-07-15 01:53:51        EL PAÍS  \n",
                            "62699  2017-04-01 12:45:00  El Observador  "
                        ]
                    },
                    "execution_count": 61,
                    "metadata": {},
                    "output_type": "execute_result"
                }
            ],
            "source": [
                "#Los 10 tweets más likeados con fecha y autor\n",
                "df.sort_values(by='RetweetCount', ascending = False)[['Tweet', 'LikeCount', 'PostDate', 'User']][:10]"
            ]
        },
        {
            "cell_type": "code",
            "execution_count": 16,
            "metadata": {},
            "outputs": [
                {
                    "data": {
                        "image/png": "[encoded data removed]",
                        "text/plain": [
                            "<Figure size 432x288 with 1 Axes>"
                        ]
                    },
                    "metadata": {},
                    "output_type": "display_data"
                }
            ],
            "source": [
                "#Plot de la cantidad de likes según autor\n",
                "df.groupby('User').size().plot.bar(x='year',y='LikeCount',title='Cantidad de likes según autor', xlabel='Autor')\n",
                "plt.show()"
            ]
        },
        {
            "cell_type": "code",
            "execution_count": 17,
            "metadata": {},
            "outputs": [
                {
                    "data": {
                        "image/png": "[encoded data removed]",
                        "text/plain": [
                            "<Figure size 432x288 with 1 Axes>"
                        ]
                    },
                    "metadata": {},
                    "output_type": "display_data"
                }
            ],
            "source": [
                "#Plot de los retweets según autor\n",
                "df.groupby('User').size().plot.bar(x='year',y='RetweetCount',title='Cantidad de retweets según autor', xlabel='Autor')\n",
                "plt.show()"
            ]
        },
        {
            "cell_type": "code",
            "execution_count": 11,
            "metadata": {},
            "outputs": [
                {
                    "data": {
                        "text/html": [
                            "<div>\n",
                            "<style scoped>\n",
                            "    .dataframe tbody tr th:only-of-type {\n",
                            "        vertical-align: middle;\n",
                            "    }\n",
                            "\n",
                            "    .dataframe tbody tr th {\n",
                            "        vertical-align: top;\n",
                            "    }\n",
                            "\n",
                            "    .dataframe thead th {\n",
                            "        text-align: right;\n",
                            "    }\n",
                            "</style>\n",
                            "<table border=\"1\" class=\"dataframe\">\n",
                            "  <thead>\n",
                            "    <tr style=\"text-align: right;\">\n",
                            "      <th></th>\n",
                            "      <th>Tweet</th>\n",
                            "    </tr>\n",
                            "    <tr>\n",
                            "      <th>year</th>\n",
                            "      <th></th>\n",
                            "    </tr>\n",
                            "  </thead>\n",
                            "  <tbody>\n",
                            "    <tr>\n",
                            "      <th>2009</th>\n",
                            "      <td>3330</td>\n",
                            "    </tr>\n",
                            "    <tr>\n",
                            "      <th>2010</th>\n",
                            "      <td>9437</td>\n",
                            "    </tr>\n",
                            "    <tr>\n",
                            "      <th>2011</th>\n",
                            "      <td>6155</td>\n",
                            "    </tr>\n",
                            "    <tr>\n",
                            "      <th>2012</th>\n",
                            "      <td>14291</td>\n",
                            "    </tr>\n",
                            "    <tr>\n",
                            "      <th>2013</th>\n",
                            "      <td>12327</td>\n",
                            "    </tr>\n",
                            "    <tr>\n",
                            "      <th>2014</th>\n",
                            "      <td>15358</td>\n",
                            "    </tr>\n",
                            "    <tr>\n",
                            "      <th>2015</th>\n",
                            "      <td>17608</td>\n",
                            "    </tr>\n",
                            "    <tr>\n",
                            "      <th>2016</th>\n",
                            "      <td>29481</td>\n",
                            "    </tr>\n",
                            "    <tr>\n",
                            "      <th>2017</th>\n",
                            "      <td>32559</td>\n",
                            "    </tr>\n",
                            "    <tr>\n",
                            "      <th>2018</th>\n",
                            "      <td>37005</td>\n",
                            "    </tr>\n",
                            "    <tr>\n",
                            "      <th>2019</th>\n",
                            "      <td>33913</td>\n",
                            "    </tr>\n",
                            "    <tr>\n",
                            "      <th>2020</th>\n",
                            "      <td>53294</td>\n",
                            "    </tr>\n",
                            "    <tr>\n",
                            "      <th>2021</th>\n",
                            "      <td>22552</td>\n",
                            "    </tr>\n",
                            "  </tbody>\n",
                            "</table>\n",
                            "</div>"
                        ],
                        "text/plain": [
                            "      Tweet\n",
                            "year       \n",
                            "2009   3330\n",
                            "2010   9437\n",
                            "2011   6155\n",
                            "2012  14291\n",
                            "2013  12327\n",
                            "2014  15358\n",
                            "2015  17608\n",
                            "2016  29481\n",
                            "2017  32559\n",
                            "2018  37005\n",
                            "2019  33913\n",
                            "2020  53294\n",
                            "2021  22552"
                        ]
                    },
                    "execution_count": 11,
                    "metadata": {},
                    "output_type": "execute_result"
                }
            ],
            "source": [
                "#Cantidad de tweets del diario El País (el diario más activo en twitter) agrupados por año\n",
                "df[df['User']=='EL PAÍS'].groupby('year').agg({'Tweet':'size'})"
            ]
        },
        {
            "cell_type": "code",
            "execution_count": 81,
            "metadata": {},
            "outputs": [
                {
                    "data": {
                        "text/html": [
                            "<div>\n",
                            "<style scoped>\n",
                            "    .dataframe tbody tr th:only-of-type {\n",
                            "        vertical-align: middle;\n",
                            "    }\n",
                            "\n",
                            "    .dataframe tbody tr th {\n",
                            "        vertical-align: top;\n",
                            "    }\n",
                            "\n",
                            "    .dataframe thead th {\n",
                            "        text-align: right;\n",
                            "    }\n",
                            "</style>\n",
                            "<table border=\"1\" class=\"dataframe\">\n",
                            "  <thead>\n",
                            "    <tr style=\"text-align: right;\">\n",
                            "      <th></th>\n",
                            "      <th>RetweetCount</th>\n",
                            "    </tr>\n",
                            "    <tr>\n",
                            "      <th>year</th>\n",
                            "      <th></th>\n",
                            "    </tr>\n",
                            "  </thead>\n",
                            "  <tbody>\n",
                            "    <tr>\n",
                            "      <th>2009</th>\n",
                            "      <td>18.0</td>\n",
                            "    </tr>\n",
                            "    <tr>\n",
                            "      <th>2010</th>\n",
                            "      <td>1773.0</td>\n",
                            "    </tr>\n",
                            "    <tr>\n",
                            "      <th>2011</th>\n",
                            "      <td>5566.0</td>\n",
                            "    </tr>\n",
                            "    <tr>\n",
                            "      <th>2012</th>\n",
                            "      <td>29070.0</td>\n",
                            "    </tr>\n",
                            "    <tr>\n",
                            "      <th>2013</th>\n",
                            "      <td>30051.0</td>\n",
                            "    </tr>\n",
                            "    <tr>\n",
                            "      <th>2014</th>\n",
                            "      <td>92591.0</td>\n",
                            "    </tr>\n",
                            "    <tr>\n",
                            "      <th>2015</th>\n",
                            "      <td>112897.0</td>\n",
                            "    </tr>\n",
                            "    <tr>\n",
                            "      <th>2016</th>\n",
                            "      <td>182310.0</td>\n",
                            "    </tr>\n",
                            "    <tr>\n",
                            "      <th>2017</th>\n",
                            "      <td>169511.0</td>\n",
                            "    </tr>\n",
                            "    <tr>\n",
                            "      <th>2018</th>\n",
                            "      <td>169338.0</td>\n",
                            "    </tr>\n",
                            "    <tr>\n",
                            "      <th>2019</th>\n",
                            "      <td>163813.0</td>\n",
                            "    </tr>\n",
                            "    <tr>\n",
                            "      <th>2020</th>\n",
                            "      <td>310443.0</td>\n",
                            "    </tr>\n",
                            "    <tr>\n",
                            "      <th>2021</th>\n",
                            "      <td>81954.0</td>\n",
                            "    </tr>\n",
                            "  </tbody>\n",
                            "</table>\n",
                            "</div>"
                        ],
                        "text/plain": [
                            "      RetweetCount\n",
                            "year              \n",
                            "2009          18.0\n",
                            "2010        1773.0\n",
                            "2011        5566.0\n",
                            "2012       29070.0\n",
                            "2013       30051.0\n",
                            "2014       92591.0\n",
                            "2015      112897.0\n",
                            "2016      182310.0\n",
                            "2017      169511.0\n",
                            "2018      169338.0\n",
                            "2019      163813.0\n",
                            "2020      310443.0\n",
                            "2021       81954.0"
                        ]
                    },
                    "execution_count": 81,
                    "metadata": {},
                    "output_type": "execute_result"
                }
            ],
            "source": [
                "#Cantidad de retweets del diario El País (el diario más activo en twitter) agrupados por año\n",
                "df[df['User']=='EL PAÍS'].groupby('year').agg({'RetweetCount':'sum'})"
            ]
        },
        {
            "cell_type": "code",
            "execution_count": 102,
            "metadata": {},
            "outputs": [
                {
                    "data": {
                        "text/html": [
                            "<div>\n",
                            "<style scoped>\n",
                            "    .dataframe tbody tr th:only-of-type {\n",
                            "        vertical-align: middle;\n",
                            "    }\n",
                            "\n",
                            "    .dataframe tbody tr th {\n",
                            "        vertical-align: top;\n",
                            "    }\n",
                            "\n",
                            "    .dataframe thead th {\n",
                            "        text-align: right;\n",
                            "    }\n",
                            "</style>\n",
                            "<table border=\"1\" class=\"dataframe\">\n",
                            "  <thead>\n",
                            "    <tr style=\"text-align: right;\">\n",
                            "      <th></th>\n",
                            "      <th>TweetID</th>\n",
                            "      <th>User</th>\n",
                            "      <th>Handle</th>\n",
                            "      <th>PostDate</th>\n",
                            "      <th>Tweet</th>\n",
                            "      <th>ReplyCount</th>\n",
                            "      <th>RetweetCount</th>\n",
                            "      <th>LikeCount</th>\n",
                            "      <th>PersonasSpacy</th>\n",
                            "      <th>year</th>\n",
                            "      <th>month</th>\n",
                            "    </tr>\n",
                            "  </thead>\n",
                            "  <tbody>\n",
                            "    <tr>\n",
                            "      <th>0</th>\n",
                            "      <td>5.498827e+17</td>\n",
                            "      <td>Brecha</td>\n",
                            "      <td>@SemanarioBrecha</td>\n",
                            "      <td>2014-12-30 11:00:21</td>\n",
                            "      <td>Brecha conversó sobre Aratirí con el subsecret...</td>\n",
                            "      <td>0.0</td>\n",
                            "      <td>1.0</td>\n",
                            "      <td>0.0</td>\n",
                            "      <td>['Edgardo Ortuño', 'Industria']</td>\n",
                            "      <td>2014</td>\n",
                            "      <td>12</td>\n",
                            "    </tr>\n",
                            "    <tr>\n",
                            "      <th>1</th>\n",
                            "      <td>5.496712e+17</td>\n",
                            "      <td>Brecha</td>\n",
                            "      <td>@SemanarioBrecha</td>\n",
                            "      <td>2014-12-29 21:00:09</td>\n",
                            "      <td>El personaje del inspector Maigret vendió más ...</td>\n",
                            "      <td>0.0</td>\n",
                            "      <td>0.0</td>\n",
                            "      <td>4.0</td>\n",
                            "      <td>['Maigret']</td>\n",
                            "      <td>2014</td>\n",
                            "      <td>12</td>\n",
                            "    </tr>\n",
                            "    <tr>\n",
                            "      <th>2</th>\n",
                            "      <td>5.496103e+17</td>\n",
                            "      <td>Brecha</td>\n",
                            "      <td>@SemanarioBrecha</td>\n",
                            "      <td>2014-12-29 16:57:57</td>\n",
                            "      <td>Víctor Hugo Abelando analiza en esta nota las ...</td>\n",
                            "      <td>0.0</td>\n",
                            "      <td>0.0</td>\n",
                            "      <td>0.0</td>\n",
                            "      <td>['Víctor Hugo Abelando']</td>\n",
                            "      <td>2014</td>\n",
                            "      <td>12</td>\n",
                            "    </tr>\n",
                            "    <tr>\n",
                            "      <th>3</th>\n",
                            "      <td>5.495958e+17</td>\n",
                            "      <td>Brecha</td>\n",
                            "      <td>@SemanarioBrecha</td>\n",
                            "      <td>2014-12-29 16:00:19</td>\n",
                            "      <td>En España 7 personas están presas acusadas de ...</td>\n",
                            "      <td>0.0</td>\n",
                            "      <td>0.0</td>\n",
                            "      <td>1.0</td>\n",
                            "      <td>[]</td>\n",
                            "      <td>2014</td>\n",
                            "      <td>12</td>\n",
                            "    </tr>\n",
                            "    <tr>\n",
                            "      <th>4</th>\n",
                            "      <td>5.495203e+17</td>\n",
                            "      <td>Brecha</td>\n",
                            "      <td>@SemanarioBrecha</td>\n",
                            "      <td>2014-12-29 11:00:18</td>\n",
                            "      <td>#Ajena en Mal Abrigo: una dimensión territoria...</td>\n",
                            "      <td>0.0</td>\n",
                            "      <td>0.0</td>\n",
                            "      <td>1.0</td>\n",
                            "      <td>[]</td>\n",
                            "      <td>2014</td>\n",
                            "      <td>12</td>\n",
                            "    </tr>\n",
                            "  </tbody>\n",
                            "</table>\n",
                            "</div>"
                        ],
                        "text/plain": [
                            "        TweetID    User            Handle            PostDate  \\\n",
                            "0  5.498827e+17  Brecha  @SemanarioBrecha 2014-12-30 11:00:21   \n",
                            "1  5.496712e+17  Brecha  @SemanarioBrecha 2014-12-29 21:00:09   \n",
                            "2  5.496103e+17  Brecha  @SemanarioBrecha 2014-12-29 16:57:57   \n",
                            "3  5.495958e+17  Brecha  @SemanarioBrecha 2014-12-29 16:00:19   \n",
                            "4  5.495203e+17  Brecha  @SemanarioBrecha 2014-12-29 11:00:18   \n",
                            "\n",
                            "                                               Tweet  ReplyCount  \\\n",
                            "0  Brecha conversó sobre Aratirí con el subsecret...         0.0   \n",
                            "1  El personaje del inspector Maigret vendió más ...         0.0   \n",
                            "2  Víctor Hugo Abelando analiza en esta nota las ...         0.0   \n",
                            "3  En España 7 personas están presas acusadas de ...         0.0   \n",
                            "4  #Ajena en Mal Abrigo: una dimensión territoria...         0.0   \n",
                            "\n",
                            "   RetweetCount  LikeCount                    PersonasSpacy  year  month  \n",
                            "0           1.0        0.0  ['Edgardo Ortuño', 'Industria']  2014     12  \n",
                            "1           0.0        4.0                      ['Maigret']  2014     12  \n",
                            "2           0.0        0.0         ['Víctor Hugo Abelando']  2014     12  \n",
                            "3           0.0        1.0                               []  2014     12  \n",
                            "4           0.0        1.0                               []  2014     12  "
                        ]
                    },
                    "execution_count": 102,
                    "metadata": {},
                    "output_type": "execute_result"
                }
            ],
            "source": [
                "df.head()"
            ]
        },
        {
            "cell_type": "code",
            "execution_count": 141,
            "metadata": {},
            "outputs": [
                {
                    "data": {
                        "text/html": [
                            "<div>\n",
                            "<style scoped>\n",
                            "    .dataframe tbody tr th:only-of-type {\n",
                            "        vertical-align: middle;\n",
                            "    }\n",
                            "\n",
                            "    .dataframe tbody tr th {\n",
                            "        vertical-align: top;\n",
                            "    }\n",
                            "\n",
                            "    .dataframe thead th {\n",
                            "        text-align: right;\n",
                            "    }\n",
                            "</style>\n",
                            "<table border=\"1\" class=\"dataframe\">\n",
                            "  <thead>\n",
                            "    <tr style=\"text-align: right;\">\n",
                            "      <th></th>\n",
                            "      <th>User</th>\n",
                            "      <th>first_date</th>\n",
                            "    </tr>\n",
                            "  </thead>\n",
                            "  <tbody>\n",
                            "    <tr>\n",
                            "      <th>2</th>\n",
                            "      <td>EL PAÍS</td>\n",
                            "      <td>2009-04-15</td>\n",
                            "    </tr>\n",
                            "    <tr>\n",
                            "      <th>5</th>\n",
                            "      <td>la diaria</td>\n",
                            "      <td>2010-01-09</td>\n",
                            "    </tr>\n",
                            "    <tr>\n",
                            "      <th>1</th>\n",
                            "      <td>BÚSQUEDA</td>\n",
                            "      <td>2010-09-02</td>\n",
                            "    </tr>\n",
                            "    <tr>\n",
                            "      <th>4</th>\n",
                            "      <td>La República</td>\n",
                            "      <td>2011-03-17</td>\n",
                            "    </tr>\n",
                            "    <tr>\n",
                            "      <th>0</th>\n",
                            "      <td>Brecha</td>\n",
                            "      <td>2011-04-01</td>\n",
                            "    </tr>\n",
                            "    <tr>\n",
                            "      <th>3</th>\n",
                            "      <td>El Observador</td>\n",
                            "      <td>2016-04-10</td>\n",
                            "    </tr>\n",
                            "  </tbody>\n",
                            "</table>\n",
                            "</div>"
                        ],
                        "text/plain": [
                            "            User  first_date\n",
                            "2        EL PAÍS  2009-04-15\n",
                            "5      la diaria  2010-01-09\n",
                            "1       BÚSQUEDA  2010-09-02\n",
                            "4   La República  2011-03-17\n",
                            "0         Brecha  2011-04-01\n",
                            "3  El Observador  2016-04-10"
                        ]
                    },
                    "execution_count": 141,
                    "metadata": {},
                    "output_type": "execute_result"
                }
            ],
            "source": [
                "#Primer tweet de cada diario\n",
                "gb = df.groupby(['User'])\n",
                "gb.agg(first_date=('date', np.min)).reset_index().sort_values(by='first_date')"
            ]
        },
        {
            "cell_type": "code",
            "execution_count": 22,
            "metadata": {},
            "outputs": [
                {
                    "data": {
                        "image/png": "[encoded data removed]",
                        "text/plain": [
                            "<Figure size 432x288 with 1 Axes>"
                        ]
                    },
                    "metadata": {},
                    "output_type": "display_data"
                }
            ],
            "source": [
                "#Plot de la cantidad de retweets del diario El País por año\n",
                "df[df['User']=='EL PAÍS'].groupby('year').agg({'RetweetCount':'sum'}).plot()\n",
                "plt.xlabel('Año')\n",
                "plt.title('Cantidad de retweets de El País')\n",
                "plt.show()"
            ]
        },
        {
            "cell_type": "code",
            "execution_count": 148,
            "metadata": {},
            "outputs": [
                {
                    "data": {
                        "image/png": "[encoded data removed]",
                        "text/plain": [
                            "<Figure size 640x480 with 1 Axes>"
                        ]
                    },
                    "metadata": {},
                    "output_type": "display_data"
                }
            ],
            "source": [
                "#Plot de la cantidad de likes del diario El País por año\n",
                "df[df['User']=='EL PAÍS'].groupby('year').agg({'LikeCount':'sum'}).plot()\n",
                "plt.style.use('seaborn-darkgrid')\n",
                "plt.xlabel('Año')\n",
                "plt.title('Cantidad de likes de El País')\n",
                "plt.show()"
            ]
        },
        {
            "cell_type": "code",
            "execution_count": 160,
            "metadata": {},
            "outputs": [
                {
                    "data": {
                        "text/html": [
                            "<div>\n",
                            "<style scoped>\n",
                            "    .dataframe tbody tr th:only-of-type {\n",
                            "        vertical-align: middle;\n",
                            "    }\n",
                            "\n",
                            "    .dataframe tbody tr th {\n",
                            "        vertical-align: top;\n",
                            "    }\n",
                            "\n",
                            "    .dataframe thead th {\n",
                            "        text-align: right;\n",
                            "    }\n",
                            "</style>\n",
                            "<table border=\"1\" class=\"dataframe\">\n",
                            "  <thead>\n",
                            "    <tr style=\"text-align: right;\">\n",
                            "      <th></th>\n",
                            "      <th>TweetID</th>\n",
                            "      <th>User</th>\n",
                            "      <th>Handle</th>\n",
                            "      <th>PostDate</th>\n",
                            "      <th>Tweet</th>\n",
                            "      <th>ReplyCount</th>\n",
                            "      <th>RetweetCount</th>\n",
                            "      <th>LikeCount</th>\n",
                            "      <th>PersonasSpacy</th>\n",
                            "      <th>year</th>\n",
                            "      <th>month</th>\n",
                            "      <th>day</th>\n",
                            "      <th>date</th>\n",
                            "    </tr>\n",
                            "  </thead>\n",
                            "  <tbody>\n",
                            "    <tr>\n",
                            "      <th>0</th>\n",
                            "      <td>5.498827e+17</td>\n",
                            "      <td>Brecha</td>\n",
                            "      <td>@SemanarioBrecha</td>\n",
                            "      <td>2014-12-30 11:00:21</td>\n",
                            "      <td>Brecha conversó sobre Aratirí con el subsecret...</td>\n",
                            "      <td>0.0</td>\n",
                            "      <td>1.0</td>\n",
                            "      <td>0.0</td>\n",
                            "      <td>['Edgardo Ortuño', 'Industria']</td>\n",
                            "      <td>2014</td>\n",
                            "      <td>12</td>\n",
                            "      <td>30</td>\n",
                            "      <td>2014-12-30</td>\n",
                            "    </tr>\n",
                            "    <tr>\n",
                            "      <th>1</th>\n",
                            "      <td>5.496712e+17</td>\n",
                            "      <td>Brecha</td>\n",
                            "      <td>@SemanarioBrecha</td>\n",
                            "      <td>2014-12-29 21:00:09</td>\n",
                            "      <td>El personaje del inspector Maigret vendió más ...</td>\n",
                            "      <td>0.0</td>\n",
                            "      <td>0.0</td>\n",
                            "      <td>4.0</td>\n",
                            "      <td>['Maigret']</td>\n",
                            "      <td>2014</td>\n",
                            "      <td>12</td>\n",
                            "      <td>29</td>\n",
                            "      <td>2014-12-29</td>\n",
                            "    </tr>\n",
                            "    <tr>\n",
                            "      <th>2</th>\n",
                            "      <td>5.496103e+17</td>\n",
                            "      <td>Brecha</td>\n",
                            "      <td>@SemanarioBrecha</td>\n",
                            "      <td>2014-12-29 16:57:57</td>\n",
                            "      <td>Víctor Hugo Abelando analiza en esta nota las ...</td>\n",
                            "      <td>0.0</td>\n",
                            "      <td>0.0</td>\n",
                            "      <td>0.0</td>\n",
                            "      <td>['Víctor Hugo Abelando']</td>\n",
                            "      <td>2014</td>\n",
                            "      <td>12</td>\n",
                            "      <td>29</td>\n",
                            "      <td>2014-12-29</td>\n",
                            "    </tr>\n",
                            "    <tr>\n",
                            "      <th>3</th>\n",
                            "      <td>5.495958e+17</td>\n",
                            "      <td>Brecha</td>\n",
                            "      <td>@SemanarioBrecha</td>\n",
                            "      <td>2014-12-29 16:00:19</td>\n",
                            "      <td>En España 7 personas están presas acusadas de ...</td>\n",
                            "      <td>0.0</td>\n",
                            "      <td>0.0</td>\n",
                            "      <td>1.0</td>\n",
                            "      <td>[]</td>\n",
                            "      <td>2014</td>\n",
                            "      <td>12</td>\n",
                            "      <td>29</td>\n",
                            "      <td>2014-12-29</td>\n",
                            "    </tr>\n",
                            "    <tr>\n",
                            "      <th>4</th>\n",
                            "      <td>5.495203e+17</td>\n",
                            "      <td>Brecha</td>\n",
                            "      <td>@SemanarioBrecha</td>\n",
                            "      <td>2014-12-29 11:00:18</td>\n",
                            "      <td>#Ajena en Mal Abrigo: una dimensión territoria...</td>\n",
                            "      <td>0.0</td>\n",
                            "      <td>0.0</td>\n",
                            "      <td>1.0</td>\n",
                            "      <td>[]</td>\n",
                            "      <td>2014</td>\n",
                            "      <td>12</td>\n",
                            "      <td>29</td>\n",
                            "      <td>2014-12-29</td>\n",
                            "    </tr>\n",
                            "  </tbody>\n",
                            "</table>\n",
                            "</div>"
                        ],
                        "text/plain": [
                            "        TweetID    User            Handle            PostDate  \\\n",
                            "0  5.498827e+17  Brecha  @SemanarioBrecha 2014-12-30 11:00:21   \n",
                            "1  5.496712e+17  Brecha  @SemanarioBrecha 2014-12-29 21:00:09   \n",
                            "2  5.496103e+17  Brecha  @SemanarioBrecha 2014-12-29 16:57:57   \n",
                            "3  5.495958e+17  Brecha  @SemanarioBrecha 2014-12-29 16:00:19   \n",
                            "4  5.495203e+17  Brecha  @SemanarioBrecha 2014-12-29 11:00:18   \n",
                            "\n",
                            "                                               Tweet  ReplyCount  \\\n",
                            "0  Brecha conversó sobre Aratirí con el subsecret...         0.0   \n",
                            "1  El personaje del inspector Maigret vendió más ...         0.0   \n",
                            "2  Víctor Hugo Abelando analiza en esta nota las ...         0.0   \n",
                            "3  En España 7 personas están presas acusadas de ...         0.0   \n",
                            "4  #Ajena en Mal Abrigo: una dimensión territoria...         0.0   \n",
                            "\n",
                            "   RetweetCount  LikeCount                    PersonasSpacy  year  month  day  \\\n",
                            "0           1.0        0.0  ['Edgardo Ortuño', 'Industria']  2014     12   30   \n",
                            "1           0.0        4.0                      ['Maigret']  2014     12   29   \n",
                            "2           0.0        0.0         ['Víctor Hugo Abelando']  2014     12   29   \n",
                            "3           0.0        1.0                               []  2014     12   29   \n",
                            "4           0.0        1.0                               []  2014     12   29   \n",
                            "\n",
                            "         date  \n",
                            "0  2014-12-30  \n",
                            "1  2014-12-29  \n",
                            "2  2014-12-29  \n",
                            "3  2014-12-29  \n",
                            "4  2014-12-29  "
                        ]
                    },
                    "execution_count": 160,
                    "metadata": {},
                    "output_type": "execute_result"
                }
            ],
            "source": [
                "df.head()"
            ]
        },
        {
            "cell_type": "code",
            "execution_count": null,
            "metadata": {},
            "outputs": [],
            "source": [
                "#Agrupamos para graficar\n",
                "dfg = df.groupby(['year', 'User']).agg({'LikeCount':'sum'}).reset_index()"
            ]
        },
        {
            "cell_type": "code",
            "execution_count": 167,
            "metadata": {},
            "outputs": [
                {
                    "data": {
                        "application/vnd.plotly.v1+json": {
                            "config": {
                                "plotlyServerURL": "https://plot.ly"
                            },
                            "data": [
                                {
                                    "hovertemplate": "User=EL PAÍS<br>year=%{x}<br>LikeCount=%{y}<extra></extra>",
                                    "legendgroup": "EL PAÍS",
                                    "line": {
                                        "color": "#636efa",
                                        "dash": "solid"
                                    },
                                    "marker": {
                                        "symbol": "circle"
                                    },
                                    "mode": "lines",
                                    "name": "EL PAÍS",
                                    "orientation": "v",
                                    "showlegend": true,
                                    "type": "scatter",
                                    "x": [
                                        2009,
                                        2010,
                                        2011,
                                        2012,
                                        2013,
                                        2014,
                                        2015,
                                        2016,
                                        2017,
                                        2018,
                                        2019,
                                        2020,
                                        2021
                                    ],
                                    "xaxis": "x",
                                    "y": [
                                        13,
                                        174,
                                        544,
                                        2567,
                                        6611,
                                        60235,
                                        95292,
                                        199856,
                                        206506,
                                        298871,
                                        349774,
                                        966383,
                                        281511
                                    ],
                                    "yaxis": "y"
                                },
                                {
                                    "hovertemplate": "User=BÚSQUEDA<br>year=%{x}<br>LikeCount=%{y}<extra></extra>",
                                    "legendgroup": "BÚSQUEDA",
                                    "line": {
                                        "color": "#EF553B",
                                        "dash": "solid"
                                    },
                                    "marker": {
                                        "symbol": "circle"
                                    },
                                    "mode": "lines",
                                    "name": "BÚSQUEDA",
                                    "orientation": "v",
                                    "showlegend": true,
                                    "type": "scatter",
                                    "x": [
                                        2010,
                                        2011,
                                        2012,
                                        2013,
                                        2014,
                                        2015,
                                        2016,
                                        2017,
                                        2018,
                                        2019,
                                        2020,
                                        2021
                                    ],
                                    "xaxis": "x",
                                    "y": [
                                        4,
                                        49,
                                        294,
                                        520,
                                        4299,
                                        6683,
                                        12381,
                                        20997,
                                        34989,
                                        34533,
                                        51501,
                                        18523
                                    ],
                                    "yaxis": "y"
                                },
                                {
                                    "hovertemplate": "User=la diaria<br>year=%{x}<br>LikeCount=%{y}<extra></extra>",
                                    "legendgroup": "la diaria",
                                    "line": {
                                        "color": "#00cc96",
                                        "dash": "solid"
                                    },
                                    "marker": {
                                        "symbol": "circle"
                                    },
                                    "mode": "lines",
                                    "name": "la diaria",
                                    "orientation": "v",
                                    "showlegend": true,
                                    "type": "scatter",
                                    "x": [
                                        2010,
                                        2011,
                                        2012,
                                        2013,
                                        2014,
                                        2015,
                                        2016,
                                        2017,
                                        2018,
                                        2019,
                                        2020,
                                        2021
                                    ],
                                    "xaxis": "x",
                                    "y": [
                                        47,
                                        103,
                                        350,
                                        1268,
                                        6182,
                                        9676,
                                        26322,
                                        57117,
                                        99586,
                                        283755,
                                        608081,
                                        239388
                                    ],
                                    "yaxis": "y"
                                },
                                {
                                    "hovertemplate": "User=Brecha<br>year=%{x}<br>LikeCount=%{y}<extra></extra>",
                                    "legendgroup": "Brecha",
                                    "line": {
                                        "color": "#ab63fa",
                                        "dash": "solid"
                                    },
                                    "marker": {
                                        "symbol": "circle"
                                    },
                                    "mode": "lines",
                                    "name": "Brecha",
                                    "orientation": "v",
                                    "showlegend": true,
                                    "type": "scatter",
                                    "x": [
                                        2011,
                                        2012,
                                        2013,
                                        2014,
                                        2015,
                                        2016,
                                        2017,
                                        2018,
                                        2019,
                                        2020,
                                        2021
                                    ],
                                    "xaxis": "x",
                                    "y": [
                                        10,
                                        28,
                                        322,
                                        1443,
                                        2446,
                                        4840,
                                        6249,
                                        8289,
                                        8443,
                                        23979,
                                        6537
                                    ],
                                    "yaxis": "y"
                                },
                                {
                                    "hovertemplate": "User=La República<br>year=%{x}<br>LikeCount=%{y}<extra></extra>",
                                    "legendgroup": "La República",
                                    "line": {
                                        "color": "#FFA15A",
                                        "dash": "solid"
                                    },
                                    "marker": {
                                        "symbol": "circle"
                                    },
                                    "mode": "lines",
                                    "name": "La República",
                                    "orientation": "v",
                                    "showlegend": true,
                                    "type": "scatter",
                                    "x": [
                                        2011,
                                        2012,
                                        2013,
                                        2014,
                                        2015,
                                        2016,
                                        2017,
                                        2018,
                                        2019,
                                        2020,
                                        2021
                                    ],
                                    "xaxis": "x",
                                    "y": [
                                        2,
                                        219,
                                        2690,
                                        23219,
                                        28871,
                                        22341,
                                        30080,
                                        39300,
                                        75095,
                                        111211,
                                        46904
                                    ],
                                    "yaxis": "y"
                                },
                                {
                                    "hovertemplate": "User=El Observador<br>year=%{x}<br>LikeCount=%{y}<extra></extra>",
                                    "legendgroup": "El Observador",
                                    "line": {
                                        "color": "#19d3f3",
                                        "dash": "solid"
                                    },
                                    "marker": {
                                        "symbol": "circle"
                                    },
                                    "mode": "lines",
                                    "name": "El Observador",
                                    "orientation": "v",
                                    "showlegend": true,
                                    "type": "scatter",
                                    "x": [
                                        2016,
                                        2017,
                                        2018,
                                        2019,
                                        2020,
                                        2021
                                    ],
                                    "xaxis": "x",
                                    "y": [
                                        122047,
                                        226370,
                                        335172,
                                        293707,
                                        323626,
                                        129252
                                    ],
                                    "yaxis": "y"
                                }
                            ],
                            "layout": {
                                "legend": {
                                    "title": {
                                        "text": "User"
                                    },
                                    "tracegroupgap": 0
                                },
                                "margin": {
                                    "t": 60
                                },
                                "template": {
                                    "data": {
                                        "bar": [
                                            {
                                                "error_x": {
                                                    "color": "#2a3f5f"
                                                },
                                                "error_y": {
                                                    "color": "#2a3f5f"
                                                },
                                                "marker": {
                                                    "line": {
                                                        "color": "#E5ECF6",
                                                        "width": 0.5
                                                    },
                                                    "pattern": {
                                                        "fillmode": "overlay",
                                                        "size": 10,
                                                        "solidity": 0.2
                                                    }
                                                },
                                                "type": "bar"
                                            }
                                        ],
                                        "barpolar": [
                                            {
                                                "marker": {
                                                    "line": {
                                                        "color": "#E5ECF6",
                                                        "width": 0.5
                                                    },
                                                    "pattern": {
                                                        "fillmode": "overlay",
                                                        "size": 10,
                                                        "solidity": 0.2
                                                    }
                                                },
                                                "type": "barpolar"
                                            }
                                        ],
                                        "carpet": [
                                            {
                                                "aaxis": {
                                                    "endlinecolor": "#2a3f5f",
                                                    "gridcolor": "white",
                                                    "linecolor": "white",
                                                    "minorgridcolor": "white",
                                                    "startlinecolor": "#2a3f5f"
                                                },
                                                "baxis": {
                                                    "endlinecolor": "#2a3f5f",
                                                    "gridcolor": "white",
                                                    "linecolor": "white",
                                                    "minorgridcolor": "white",
                                                    "startlinecolor": "#2a3f5f"
                                                },
                                                "type": "carpet"
                                            }
                                        ],
                                        "choropleth": [
                                            {
                                                "colorbar": {
                                                    "outlinewidth": 0,
                                                    "ticks": ""
                                                },
                                                "type": "choropleth"
                                            }
                                        ],
                                        "contour": [
                                            {
                                                "colorbar": {
                                                    "outlinewidth": 0,
                                                    "ticks": ""
                                                },
                                                "colorscale": [
                                                    [
                                                        0,
                                                        "#0d0887"
                                                    ],
                                                    [
                                                        0.1111111111111111,
                                                        "#46039f"
                                                    ],
                                                    [
                                                        0.2222222222222222,
                                                        "#7201a8"
                                                    ],
                                                    [
                                                        0.3333333333333333,
                                                        "#9c179e"
                                                    ],
                                                    [
                                                        0.4444444444444444,
                                                        "#bd3786"
                                                    ],
                                                    [
                                                        0.5555555555555556,
                                                        "#d8576b"
                                                    ],
                                                    [
                                                        0.6666666666666666,
                                                        "#ed7953"
                                                    ],
                                                    [
                                                        0.7777777777777778,
                                                        "#fb9f3a"
                                                    ],
                                                    [
                                                        0.8888888888888888,
                                                        "#fdca26"
                                                    ],
                                                    [
                                                        1,
                                                        "#f0f921"
                                                    ]
                                                ],
                                                "type": "contour"
                                            }
                                        ],
                                        "contourcarpet": [
                                            {
                                                "colorbar": {
                                                    "outlinewidth": 0,
                                                    "ticks": ""
                                                },
                                                "type": "contourcarpet"
                                            }
                                        ],
                                        "heatmap": [
                                            {
                                                "colorbar": {
                                                    "outlinewidth": 0,
                                                    "ticks": ""
                                                },
                                                "colorscale": [
                                                    [
                                                        0,
                                                        "#0d0887"
                                                    ],
                                                    [
                                                        0.1111111111111111,
                                                        "#46039f"
                                                    ],
                                                    [
                                                        0.2222222222222222,
                                                        "#7201a8"
                                                    ],
                                                    [
                                                        0.3333333333333333,
                                                        "#9c179e"
                                                    ],
                                                    [
                                                        0.4444444444444444,
                                                        "#bd3786"
                                                    ],
                                                    [
                                                        0.5555555555555556,
                                                        "#d8576b"
                                                    ],
                                                    [
                                                        0.6666666666666666,
                                                        "#ed7953"
                                                    ],
                                                    [
                                                        0.7777777777777778,
                                                        "#fb9f3a"
                                                    ],
                                                    [
                                                        0.8888888888888888,
                                                        "#fdca26"
                                                    ],
                                                    [
                                                        1,
                                                        "#f0f921"
                                                    ]
                                                ],
                                                "type": "heatmap"
                                            }
                                        ],
                                        "heatmapgl": [
                                            {
                                                "colorbar": {
                                                    "outlinewidth": 0,
                                                    "ticks": ""
                                                },
                                                "colorscale": [
                                                    [
                                                        0,
                                                        "#0d0887"
                                                    ],
                                                    [
                                                        0.1111111111111111,
                                                        "#46039f"
                                                    ],
                                                    [
                                                        0.2222222222222222,
                                                        "#7201a8"
                                                    ],
                                                    [
                                                        0.3333333333333333,
                                                        "#9c179e"
                                                    ],
                                                    [
                                                        0.4444444444444444,
                                                        "#bd3786"
                                                    ],
                                                    [
                                                        0.5555555555555556,
                                                        "#d8576b"
                                                    ],
                                                    [
                                                        0.6666666666666666,
                                                        "#ed7953"
                                                    ],
                                                    [
                                                        0.7777777777777778,
                                                        "#fb9f3a"
                                                    ],
                                                    [
                                                        0.8888888888888888,
                                                        "#fdca26"
                                                    ],
                                                    [
                                                        1,
                                                        "#f0f921"
                                                    ]
                                                ],
                                                "type": "heatmapgl"
                                            }
                                        ],
                                        "histogram": [
                                            {
                                                "marker": {
                                                    "pattern": {
                                                        "fillmode": "overlay",
                                                        "size": 10,
                                                        "solidity": 0.2
                                                    }
                                                },
                                                "type": "histogram"
                                            }
                                        ],
                                        "histogram2d": [
                                            {
                                                "colorbar": {
                                                    "outlinewidth": 0,
                                                    "ticks": ""
                                                },
                                                "colorscale": [
                                                    [
                                                        0,
                                                        "#0d0887"
                                                    ],
                                                    [
                                                        0.1111111111111111,
                                                        "#46039f"
                                                    ],
                                                    [
                                                        0.2222222222222222,
                                                        "#7201a8"
                                                    ],
                                                    [
                                                        0.3333333333333333,
                                                        "#9c179e"
                                                    ],
                                                    [
                                                        0.4444444444444444,
                                                        "#bd3786"
                                                    ],
                                                    [
                                                        0.5555555555555556,
                                                        "#d8576b"
                                                    ],
                                                    [
                                                        0.6666666666666666,
                                                        "#ed7953"
                                                    ],
                                                    [
                                                        0.7777777777777778,
                                                        "#fb9f3a"
                                                    ],
                                                    [
                                                        0.8888888888888888,
                                                        "#fdca26"
                                                    ],
                                                    [
                                                        1,
                                                        "#f0f921"
                                                    ]
                                                ],
                                                "type": "histogram2d"
                                            }
                                        ],
                                        "histogram2dcontour": [
                                            {
                                                "colorbar": {
                                                    "outlinewidth": 0,
                                                    "ticks": ""
                                                },
                                                "colorscale": [
                                                    [
                                                        0,
                                                        "#0d0887"
                                                    ],
                                                    [
                                                        0.1111111111111111,
                                                        "#46039f"
                                                    ],
                                                    [
                                                        0.2222222222222222,
                                                        "#7201a8"
                                                    ],
                                                    [
                                                        0.3333333333333333,
                                                        "#9c179e"
                                                    ],
                                                    [
                                                        0.4444444444444444,
                                                        "#bd3786"
                                                    ],
                                                    [
                                                        0.5555555555555556,
                                                        "#d8576b"
                                                    ],
                                                    [
                                                        0.6666666666666666,
                                                        "#ed7953"
                                                    ],
                                                    [
                                                        0.7777777777777778,
                                                        "#fb9f3a"
                                                    ],
                                                    [
                                                        0.8888888888888888,
                                                        "#fdca26"
                                                    ],
                                                    [
                                                        1,
                                                        "#f0f921"
                                                    ]
                                                ],
                                                "type": "histogram2dcontour"
                                            }
                                        ],
                                        "mesh3d": [
                                            {
                                                "colorbar": {
                                                    "outlinewidth": 0,
                                                    "ticks": ""
                                                },
                                                "type": "mesh3d"
                                            }
                                        ],
                                        "parcoords": [
                                            {
                                                "line": {
                                                    "colorbar": {
                                                        "outlinewidth": 0,
                                                        "ticks": ""
                                                    }
                                                },
                                                "type": "parcoords"
                                            }
                                        ],
                                        "pie": [
                                            {
                                                "automargin": true,
                                                "type": "pie"
                                            }
                                        ],
                                        "scatter": [
                                            {
                                                "fillpattern": {
                                                    "fillmode": "overlay",
                                                    "size": 10,
                                                    "solidity": 0.2
                                                },
                                                "type": "scatter"
                                            }
                                        ],
                                        "scatter3d": [
                                            {
                                                "line": {
                                                    "colorbar": {
                                                        "outlinewidth": 0,
                                                        "ticks": ""
                                                    }
                                                },
                                                "marker": {
                                                    "colorbar": {
                                                        "outlinewidth": 0,
                                                        "ticks": ""
                                                    }
                                                },
                                                "type": "scatter3d"
                                            }
                                        ],
                                        "scattercarpet": [
                                            {
                                                "marker": {
                                                    "colorbar": {
                                                        "outlinewidth": 0,
                                                        "ticks": ""
                                                    }
                                                },
                                                "type": "scattercarpet"
                                            }
                                        ],
                                        "scattergeo": [
                                            {
                                                "marker": {
                                                    "colorbar": {
                                                        "outlinewidth": 0,
                                                        "ticks": ""
                                                    }
                                                },
                                                "type": "scattergeo"
                                            }
                                        ],
                                        "scattergl": [
                                            {
                                                "marker": {
                                                    "colorbar": {
                                                        "outlinewidth": 0,
                                                        "ticks": ""
                                                    }
                                                },
                                                "type": "scattergl"
                                            }
                                        ],
                                        "scattermapbox": [
                                            {
                                                "marker": {
                                                    "colorbar": {
                                                        "outlinewidth": 0,
                                                        "ticks": ""
                                                    }
                                                },
                                                "type": "scattermapbox"
                                            }
                                        ],
                                        "scatterpolar": [
                                            {
                                                "marker": {
                                                    "colorbar": {
                                                        "outlinewidth": 0,
                                                        "ticks": ""
                                                    }
                                                },
                                                "type": "scatterpolar"
                                            }
                                        ],
                                        "scatterpolargl": [
                                            {
                                                "marker": {
                                                    "colorbar": {
                                                        "outlinewidth": 0,
                                                        "ticks": ""
                                                    }
                                                },
                                                "type": "scatterpolargl"
                                            }
                                        ],
                                        "scatterternary": [
                                            {
                                                "marker": {
                                                    "colorbar": {
                                                        "outlinewidth": 0,
                                                        "ticks": ""
                                                    }
                                                },
                                                "type": "scatterternary"
                                            }
                                        ],
                                        "surface": [
                                            {
                                                "colorbar": {
                                                    "outlinewidth": 0,
                                                    "ticks": ""
                                                },
                                                "colorscale": [
                                                    [
                                                        0,
                                                        "#0d0887"
                                                    ],
                                                    [
                                                        0.1111111111111111,
                                                        "#46039f"
                                                    ],
                                                    [
                                                        0.2222222222222222,
                                                        "#7201a8"
                                                    ],
                                                    [
                                                        0.3333333333333333,
                                                        "#9c179e"
                                                    ],
                                                    [
                                                        0.4444444444444444,
                                                        "#bd3786"
                                                    ],
                                                    [
                                                        0.5555555555555556,
                                                        "#d8576b"
                                                    ],
                                                    [
                                                        0.6666666666666666,
                                                        "#ed7953"
                                                    ],
                                                    [
                                                        0.7777777777777778,
                                                        "#fb9f3a"
                                                    ],
                                                    [
                                                        0.8888888888888888,
                                                        "#fdca26"
                                                    ],
                                                    [
                                                        1,
                                                        "#f0f921"
                                                    ]
                                                ],
                                                "type": "surface"
                                            }
                                        ],
                                        "table": [
                                            {
                                                "cells": {
                                                    "fill": {
                                                        "color": "#EBF0F8"
                                                    },
                                                    "line": {
                                                        "color": "white"
                                                    }
                                                },
                                                "header": {
                                                    "fill": {
                                                        "color": "#C8D4E3"
                                                    },
                                                    "line": {
                                                        "color": "white"
                                                    }
                                                },
                                                "type": "table"
                                            }
                                        ]
                                    },
                                    "layout": {
                                        "annotationdefaults": {
                                            "arrowcolor": "#2a3f5f",
                                            "arrowhead": 0,
                                            "arrowwidth": 1
                                        },
                                        "autotypenumbers": "strict",
                                        "coloraxis": {
                                            "colorbar": {
                                                "outlinewidth": 0,
                                                "ticks": ""
                                            }
                                        },
                                        "colorscale": {
                                            "diverging": [
                                                [
                                                    0,
                                                    "#8e0152"
                                                ],
                                                [
                                                    0.1,
                                                    "#c51b7d"
                                                ],
                                                [
                                                    0.2,
                                                    "#de77ae"
                                                ],
                                                [
                                                    0.3,
                                                    "#f1b6da"
                                                ],
                                                [
                                                    0.4,
                                                    "#fde0ef"
                                                ],
                                                [
                                                    0.5,
                                                    "#f7f7f7"
                                                ],
                                                [
                                                    0.6,
                                                    "#e6f5d0"
                                                ],
                                                [
                                                    0.7,
                                                    "#b8e186"
                                                ],
                                                [
                                                    0.8,
                                                    "#7fbc41"
                                                ],
                                                [
                                                    0.9,
                                                    "#4d9221"
                                                ],
                                                [
                                                    1,
                                                    "#276419"
                                                ]
                                            ],
                                            "sequential": [
                                                [
                                                    0,
                                                    "#0d0887"
                                                ],
                                                [
                                                    0.1111111111111111,
                                                    "#46039f"
                                                ],
                                                [
                                                    0.2222222222222222,
                                                    "#7201a8"
                                                ],
                                                [
                                                    0.3333333333333333,
                                                    "#9c179e"
                                                ],
                                                [
                                                    0.4444444444444444,
                                                    "#bd3786"
                                                ],
                                                [
                                                    0.5555555555555556,
                                                    "#d8576b"
                                                ],
                                                [
                                                    0.6666666666666666,
                                                    "#ed7953"
                                                ],
                                                [
                                                    0.7777777777777778,
                                                    "#fb9f3a"
                                                ],
                                                [
                                                    0.8888888888888888,
                                                    "#fdca26"
                                                ],
                                                [
                                                    1,
                                                    "#f0f921"
                                                ]
                                            ],
                                            "sequentialminus": [
                                                [
                                                    0,
                                                    "#0d0887"
                                                ],
                                                [
                                                    0.1111111111111111,
                                                    "#46039f"
                                                ],
                                                [
                                                    0.2222222222222222,
                                                    "#7201a8"
                                                ],
                                                [
                                                    0.3333333333333333,
                                                    "#9c179e"
                                                ],
                                                [
                                                    0.4444444444444444,
                                                    "#bd3786"
                                                ],
                                                [
                                                    0.5555555555555556,
                                                    "#d8576b"
                                                ],
                                                [
                                                    0.6666666666666666,
                                                    "#ed7953"
                                                ],
                                                [
                                                    0.7777777777777778,
                                                    "#fb9f3a"
                                                ],
                                                [
                                                    0.8888888888888888,
                                                    "#fdca26"
                                                ],
                                                [
                                                    1,
                                                    "#f0f921"
                                                ]
                                            ]
                                        },
                                        "colorway": [
                                            "#636efa",
                                            "#EF553B",
                                            "#00cc96",
                                            "#ab63fa",
                                            "#FFA15A",
                                            "#19d3f3",
                                            "#FF6692",
                                            "#B6E880",
                                            "#FF97FF",
                                            "#FECB52"
                                        ],
                                        "font": {
                                            "color": "#2a3f5f"
                                        },
                                        "geo": {
                                            "bgcolor": "white",
                                            "lakecolor": "white",
                                            "landcolor": "#E5ECF6",
                                            "showlakes": true,
                                            "showland": true,
                                            "subunitcolor": "white"
                                        },
                                        "hoverlabel": {
                                            "align": "left"
                                        },
                                        "hovermode": "closest",
                                        "mapbox": {
                                            "style": "light"
                                        },
                                        "paper_bgcolor": "white",
                                        "plot_bgcolor": "#E5ECF6",
                                        "polar": {
                                            "angularaxis": {
                                                "gridcolor": "white",
                                                "linecolor": "white",
                                                "ticks": ""
                                            },
                                            "bgcolor": "#E5ECF6",
                                            "radialaxis": {
                                                "gridcolor": "white",
                                                "linecolor": "white",
                                                "ticks": ""
                                            }
                                        },
                                        "scene": {
                                            "xaxis": {
                                                "backgroundcolor": "#E5ECF6",
                                                "gridcolor": "white",
                                                "gridwidth": 2,
                                                "linecolor": "white",
                                                "showbackground": true,
                                                "ticks": "",
                                                "zerolinecolor": "white"
                                            },
                                            "yaxis": {
                                                "backgroundcolor": "#E5ECF6",
                                                "gridcolor": "white",
                                                "gridwidth": 2,
                                                "linecolor": "white",
                                                "showbackground": true,
                                                "ticks": "",
                                                "zerolinecolor": "white"
                                            },
                                            "zaxis": {
                                                "backgroundcolor": "#E5ECF6",
                                                "gridcolor": "white",
                                                "gridwidth": 2,
                                                "linecolor": "white",
                                                "showbackground": true,
                                                "ticks": "",
                                                "zerolinecolor": "white"
                                            }
                                        },
                                        "shapedefaults": {
                                            "line": {
                                                "color": "#2a3f5f"
                                            }
                                        },
                                        "ternary": {
                                            "aaxis": {
                                                "gridcolor": "white",
                                                "linecolor": "white",
                                                "ticks": ""
                                            },
                                            "baxis": {
                                                "gridcolor": "white",
                                                "linecolor": "white",
                                                "ticks": ""
                                            },
                                            "bgcolor": "#E5ECF6",
                                            "caxis": {
                                                "gridcolor": "white",
                                                "linecolor": "white",
                                                "ticks": ""
                                            }
                                        },
                                        "title": {
                                            "x": 0.05
                                        },
                                        "xaxis": {
                                            "automargin": true,
                                            "gridcolor": "white",
                                            "linecolor": "white",
                                            "ticks": "",
                                            "title": {
                                                "standoff": 15
                                            },
                                            "zerolinecolor": "white",
                                            "zerolinewidth": 2
                                        },
                                        "yaxis": {
                                            "automargin": true,
                                            "gridcolor": "white",
                                            "linecolor": "white",
                                            "ticks": "",
                                            "title": {
                                                "standoff": 15
                                            },
                                            "zerolinecolor": "white",
                                            "zerolinewidth": 2
                                        }
                                    }
                                },
                                "xaxis": {
                                    "anchor": "y",
                                    "domain": [
                                        0,
                                        1
                                    ],
                                    "title": {
                                        "text": "year"
                                    }
                                },
                                "yaxis": {
                                    "anchor": "x",
                                    "domain": [
                                        0,
                                        1
                                    ],
                                    "title": {
                                        "text": "LikeCount"
                                    }
                                }
                            }
                        },
                        "text/html": [
                            "<div>                            <div id=\"032ef48f-8404-4bda-8b16-b7c6c7b769b3\" class=\"plotly-graph-div\" style=\"height:525px; width:100%;\"></div>            <script type=\"text/javascript\">                require([\"plotly\"], function(Plotly) {                    window.PLOTLYENV=window.PLOTLYENV || {};                                    if (document.getElementById(\"032ef48f-8404-4bda-8b16-b7c6c7b769b3\")) {                    Plotly.newPlot(                        \"032ef48f-8404-4bda-8b16-b7c6c7b769b3\",                        [{\"hovertemplate\":\"User=EL PA\\u00cdS<br>year=%{x}<br>LikeCount=%{y}<extra></extra>\",\"legendgroup\":\"EL PA\\u00cdS\",\"line\":{\"color\":\"#636efa\",\"dash\":\"solid\"},\"marker\":{\"symbol\":\"circle\"},\"mode\":\"lines\",\"name\":\"EL PA\\u00cdS\",\"orientation\":\"v\",\"showlegend\":true,\"x\":[2009,2010,2011,2012,2013,2014,2015,2016,2017,2018,2019,2020,2021],\"xaxis\":\"x\",\"y\":[13.0,174.0,544.0,2567.0,6611.0,60235.0,95292.0,199856.0,206506.0,298871.0,349774.0,966383.0,281511.0],\"yaxis\":\"y\",\"type\":\"scatter\"},{\"hovertemplate\":\"User=B\\u00daSQUEDA<br>year=%{x}<br>LikeCount=%{y}<extra></extra>\",\"legendgroup\":\"B\\u00daSQUEDA\",\"line\":{\"color\":\"#EF553B\",\"dash\":\"solid\"},\"marker\":{\"symbol\":\"circle\"},\"mode\":\"lines\",\"name\":\"B\\u00daSQUEDA\",\"orientation\":\"v\",\"showlegend\":true,\"x\":[2010,2011,2012,2013,2014,2015,2016,2017,2018,2019,2020,2021],\"xaxis\":\"x\",\"y\":[4.0,49.0,294.0,520.0,4299.0,6683.0,12381.0,20997.0,34989.0,34533.0,51501.0,18523.0],\"yaxis\":\"y\",\"type\":\"scatter\"},{\"hovertemplate\":\"User=la diaria<br>year=%{x}<br>LikeCount=%{y}<extra></extra>\",\"legendgroup\":\"la diaria\",\"line\":{\"color\":\"#00cc96\",\"dash\":\"solid\"},\"marker\":{\"symbol\":\"circle\"},\"mode\":\"lines\",\"name\":\"la diaria\",\"orientation\":\"v\",\"showlegend\":true,\"x\":[2010,2011,2012,2013,2014,2015,2016,2017,2018,2019,2020,2021],\"xaxis\":\"x\",\"y\":[47.0,103.0,350.0,1268.0,6182.0,9676.0,26322.0,57117.0,99586.0,283755.0,608081.0,239388.0],\"yaxis\":\"y\",\"type\":\"scatter\"},{\"hovertemplate\":\"User=Brecha<br>year=%{x}<br>LikeCount=%{y}<extra></extra>\",\"legendgroup\":\"Brecha\",\"line\":{\"color\":\"#ab63fa\",\"dash\":\"solid\"},\"marker\":{\"symbol\":\"circle\"},\"mode\":\"lines\",\"name\":\"Brecha\",\"orientation\":\"v\",\"showlegend\":true,\"x\":[2011,2012,2013,2014,2015,2016,2017,2018,2019,2020,2021],\"xaxis\":\"x\",\"y\":[10.0,28.0,322.0,1443.0,2446.0,4840.0,6249.0,8289.0,8443.0,23979.0,6537.0],\"yaxis\":\"y\",\"type\":\"scatter\"},{\"hovertemplate\":\"User=La Rep\\u00fablica<br>year=%{x}<br>LikeCount=%{y}<extra></extra>\",\"legendgroup\":\"La Rep\\u00fablica\",\"line\":{\"color\":\"#FFA15A\",\"dash\":\"solid\"},\"marker\":{\"symbol\":\"circle\"},\"mode\":\"lines\",\"name\":\"La Rep\\u00fablica\",\"orientation\":\"v\",\"showlegend\":true,\"x\":[2011,2012,2013,2014,2015,2016,2017,2018,2019,2020,2021],\"xaxis\":\"x\",\"y\":[2.0,219.0,2690.0,23219.0,28871.0,22341.0,30080.0,39300.0,75095.0,111211.0,46904.0],\"yaxis\":\"y\",\"type\":\"scatter\"},{\"hovertemplate\":\"User=El Observador<br>year=%{x}<br>LikeCount=%{y}<extra></extra>\",\"legendgroup\":\"El Observador\",\"line\":{\"color\":\"#19d3f3\",\"dash\":\"solid\"},\"marker\":{\"symbol\":\"circle\"},\"mode\":\"lines\",\"name\":\"El Observador\",\"orientation\":\"v\",\"showlegend\":true,\"x\":[2016,2017,2018,2019,2020,2021],\"xaxis\":\"x\",\"y\":[122047.0,226370.0,335172.0,293707.0,323626.0,129252.0],\"yaxis\":\"y\",\"type\":\"scatter\"}],                        {\"template\":{\"data\":{\"histogram2dcontour\":[{\"type\":\"histogram2dcontour\",\"colorbar\":{\"outlinewidth\":0,\"ticks\":\"\"},\"colorscale\":[[0.0,\"#0d0887\"],[0.1111111111111111,\"#46039f\"],[0.2222222222222222,\"#7201a8\"],[0.3333333333333333,\"#9c179e\"],[0.4444444444444444,\"#bd3786\"],[0.5555555555555556,\"#d8576b\"],[0.6666666666666666,\"#ed7953\"],[0.7777777777777778,\"#fb9f3a\"],[0.8888888888888888,\"#fdca26\"],[1.0,\"#f0f921\"]]}],\"choropleth\":[{\"type\":\"choropleth\",\"colorbar\":{\"outlinewidth\":0,\"ticks\":\"\"}}],\"histogram2d\":[{\"type\":\"histogram2d\",\"colorbar\":{\"outlinewidth\":0,\"ticks\":\"\"},\"colorscale\":[[0.0,\"#0d0887\"],[0.1111111111111111,\"#46039f\"],[0.2222222222222222,\"#7201a8\"],[0.3333333333333333,\"#9c179e\"],[0.4444444444444444,\"#bd3786\"],[0.5555555555555556,\"#d8576b\"],[0.6666666666666666,\"#ed7953\"],[0.7777777777777778,\"#fb9f3a\"],[0.8888888888888888,\"#fdca26\"],[1.0,\"#f0f921\"]]}],\"heatmap\":[{\"type\":\"heatmap\",\"colorbar\":{\"outlinewidth\":0,\"ticks\":\"\"},\"colorscale\":[[0.0,\"#0d0887\"],[0.1111111111111111,\"#46039f\"],[0.2222222222222222,\"#7201a8\"],[0.3333333333333333,\"#9c179e\"],[0.4444444444444444,\"#bd3786\"],[0.5555555555555556,\"#d8576b\"],[0.6666666666666666,\"#ed7953\"],[0.7777777777777778,\"#fb9f3a\"],[0.8888888888888888,\"#fdca26\"],[1.0,\"#f0f921\"]]}],\"heatmapgl\":[{\"type\":\"heatmapgl\",\"colorbar\":{\"outlinewidth\":0,\"ticks\":\"\"},\"colorscale\":[[0.0,\"#0d0887\"],[0.1111111111111111,\"#46039f\"],[0.2222222222222222,\"#7201a8\"],[0.3333333333333333,\"#9c179e\"],[0.4444444444444444,\"#bd3786\"],[0.5555555555555556,\"#d8576b\"],[0.6666666666666666,\"#ed7953\"],[0.7777777777777778,\"#fb9f3a\"],[0.8888888888888888,\"#fdca26\"],[1.0,\"#f0f921\"]]}],\"contourcarpet\":[{\"type\":\"contourcarpet\",\"colorbar\":{\"outlinewidth\":0,\"ticks\":\"\"}}],\"contour\":[{\"type\":\"contour\",\"colorbar\":{\"outlinewidth\":0,\"ticks\":\"\"},\"colorscale\":[[0.0,\"#0d0887\"],[0.1111111111111111,\"#46039f\"],[0.2222222222222222,\"#7201a8\"],[0.3333333333333333,\"#9c179e\"],[0.4444444444444444,\"#bd3786\"],[0.5555555555555556,\"#d8576b\"],[0.6666666666666666,\"#ed7953\"],[0.7777777777777778,\"#fb9f3a\"],[0.8888888888888888,\"#fdca26\"],[1.0,\"#f0f921\"]]}],\"surface\":[{\"type\":\"surface\",\"colorbar\":{\"outlinewidth\":0,\"ticks\":\"\"},\"colorscale\":[[0.0,\"#0d0887\"],[0.1111111111111111,\"#46039f\"],[0.2222222222222222,\"#7201a8\"],[0.3333333333333333,\"#9c179e\"],[0.4444444444444444,\"#bd3786\"],[0.5555555555555556,\"#d8576b\"],[0.6666666666666666,\"#ed7953\"],[0.7777777777777778,\"#fb9f3a\"],[0.8888888888888888,\"#fdca26\"],[1.0,\"#f0f921\"]]}],\"mesh3d\":[{\"type\":\"mesh3d\",\"colorbar\":{\"outlinewidth\":0,\"ticks\":\"\"}}],\"scatter\":[{\"fillpattern\":{\"fillmode\":\"overlay\",\"size\":10,\"solidity\":0.2},\"type\":\"scatter\"}],\"parcoords\":[{\"type\":\"parcoords\",\"line\":{\"colorbar\":{\"outlinewidth\":0,\"ticks\":\"\"}}}],\"scatterpolargl\":[{\"type\":\"scatterpolargl\",\"marker\":{\"colorbar\":{\"outlinewidth\":0,\"ticks\":\"\"}}}],\"bar\":[{\"error_x\":{\"color\":\"#2a3f5f\"},\"error_y\":{\"color\":\"#2a3f5f\"},\"marker\":{\"line\":{\"color\":\"#E5ECF6\",\"width\":0.5},\"pattern\":{\"fillmode\":\"overlay\",\"size\":10,\"solidity\":0.2}},\"type\":\"bar\"}],\"scattergeo\":[{\"type\":\"scattergeo\",\"marker\":{\"colorbar\":{\"outlinewidth\":0,\"ticks\":\"\"}}}],\"scatterpolar\":[{\"type\":\"scatterpolar\",\"marker\":{\"colorbar\":{\"outlinewidth\":0,\"ticks\":\"\"}}}],\"histogram\":[{\"marker\":{\"pattern\":{\"fillmode\":\"overlay\",\"size\":10,\"solidity\":0.2}},\"type\":\"histogram\"}],\"scattergl\":[{\"type\":\"scattergl\",\"marker\":{\"colorbar\":{\"outlinewidth\":0,\"ticks\":\"\"}}}],\"scatter3d\":[{\"type\":\"scatter3d\",\"line\":{\"colorbar\":{\"outlinewidth\":0,\"ticks\":\"\"}},\"marker\":{\"colorbar\":{\"outlinewidth\":0,\"ticks\":\"\"}}}],\"scattermapbox\":[{\"type\":\"scattermapbox\",\"marker\":{\"colorbar\":{\"outlinewidth\":0,\"ticks\":\"\"}}}],\"scatterternary\":[{\"type\":\"scatterternary\",\"marker\":{\"colorbar\":{\"outlinewidth\":0,\"ticks\":\"\"}}}],\"scattercarpet\":[{\"type\":\"scattercarpet\",\"marker\":{\"colorbar\":{\"outlinewidth\":0,\"ticks\":\"\"}}}],\"carpet\":[{\"aaxis\":{\"endlinecolor\":\"#2a3f5f\",\"gridcolor\":\"white\",\"linecolor\":\"white\",\"minorgridcolor\":\"white\",\"startlinecolor\":\"#2a3f5f\"},\"baxis\":{\"endlinecolor\":\"#2a3f5f\",\"gridcolor\":\"white\",\"linecolor\":\"white\",\"minorgridcolor\":\"white\",\"startlinecolor\":\"#2a3f5f\"},\"type\":\"carpet\"}],\"table\":[{\"cells\":{\"fill\":{\"color\":\"#EBF0F8\"},\"line\":{\"color\":\"white\"}},\"header\":{\"fill\":{\"color\":\"#C8D4E3\"},\"line\":{\"color\":\"white\"}},\"type\":\"table\"}],\"barpolar\":[{\"marker\":{\"line\":{\"color\":\"#E5ECF6\",\"width\":0.5},\"pattern\":{\"fillmode\":\"overlay\",\"size\":10,\"solidity\":0.2}},\"type\":\"barpolar\"}],\"pie\":[{\"automargin\":true,\"type\":\"pie\"}]},\"layout\":{\"autotypenumbers\":\"strict\",\"colorway\":[\"#636efa\",\"#EF553B\",\"#00cc96\",\"#ab63fa\",\"#FFA15A\",\"#19d3f3\",\"#FF6692\",\"#B6E880\",\"#FF97FF\",\"#FECB52\"],\"font\":{\"color\":\"#2a3f5f\"},\"hovermode\":\"closest\",\"hoverlabel\":{\"align\":\"left\"},\"paper_bgcolor\":\"white\",\"plot_bgcolor\":\"#E5ECF6\",\"polar\":{\"bgcolor\":\"#E5ECF6\",\"angularaxis\":{\"gridcolor\":\"white\",\"linecolor\":\"white\",\"ticks\":\"\"},\"radialaxis\":{\"gridcolor\":\"white\",\"linecolor\":\"white\",\"ticks\":\"\"}},\"ternary\":{\"bgcolor\":\"#E5ECF6\",\"aaxis\":{\"gridcolor\":\"white\",\"linecolor\":\"white\",\"ticks\":\"\"},\"baxis\":{\"gridcolor\":\"white\",\"linecolor\":\"white\",\"ticks\":\"\"},\"caxis\":{\"gridcolor\":\"white\",\"linecolor\":\"white\",\"ticks\":\"\"}},\"coloraxis\":{\"colorbar\":{\"outlinewidth\":0,\"ticks\":\"\"}},\"colorscale\":{\"sequential\":[[0.0,\"#0d0887\"],[0.1111111111111111,\"#46039f\"],[0.2222222222222222,\"#7201a8\"],[0.3333333333333333,\"#9c179e\"],[0.4444444444444444,\"#bd3786\"],[0.5555555555555556,\"#d8576b\"],[0.6666666666666666,\"#ed7953\"],[0.7777777777777778,\"#fb9f3a\"],[0.8888888888888888,\"#fdca26\"],[1.0,\"#f0f921\"]],\"sequentialminus\":[[0.0,\"#0d0887\"],[0.1111111111111111,\"#46039f\"],[0.2222222222222222,\"#7201a8\"],[0.3333333333333333,\"#9c179e\"],[0.4444444444444444,\"#bd3786\"],[0.5555555555555556,\"#d8576b\"],[0.6666666666666666,\"#ed7953\"],[0.7777777777777778,\"#fb9f3a\"],[0.8888888888888888,\"#fdca26\"],[1.0,\"#f0f921\"]],\"diverging\":[[0,\"#8e0152\"],[0.1,\"#c51b7d\"],[0.2,\"#de77ae\"],[0.3,\"#f1b6da\"],[0.4,\"#fde0ef\"],[0.5,\"#f7f7f7\"],[0.6,\"#e6f5d0\"],[0.7,\"#b8e186\"],[0.8,\"#7fbc41\"],[0.9,\"#4d9221\"],[1,\"#276419\"]]},\"xaxis\":{\"gridcolor\":\"white\",\"linecolor\":\"white\",\"ticks\":\"\",\"title\":{\"standoff\":15},\"zerolinecolor\":\"white\",\"automargin\":true,\"zerolinewidth\":2},\"yaxis\":{\"gridcolor\":\"white\",\"linecolor\":\"white\",\"ticks\":\"\",\"title\":{\"standoff\":15},\"zerolinecolor\":\"white\",\"automargin\":true,\"zerolinewidth\":2},\"scene\":{\"xaxis\":{\"backgroundcolor\":\"#E5ECF6\",\"gridcolor\":\"white\",\"linecolor\":\"white\",\"showbackground\":true,\"ticks\":\"\",\"zerolinecolor\":\"white\",\"gridwidth\":2},\"yaxis\":{\"backgroundcolor\":\"#E5ECF6\",\"gridcolor\":\"white\",\"linecolor\":\"white\",\"showbackground\":true,\"ticks\":\"\",\"zerolinecolor\":\"white\",\"gridwidth\":2},\"zaxis\":{\"backgroundcolor\":\"#E5ECF6\",\"gridcolor\":\"white\",\"linecolor\":\"white\",\"showbackground\":true,\"ticks\":\"\",\"zerolinecolor\":\"white\",\"gridwidth\":2}},\"shapedefaults\":{\"line\":{\"color\":\"#2a3f5f\"}},\"annotationdefaults\":{\"arrowcolor\":\"#2a3f5f\",\"arrowhead\":0,\"arrowwidth\":1},\"geo\":{\"bgcolor\":\"white\",\"landcolor\":\"#E5ECF6\",\"subunitcolor\":\"white\",\"showland\":true,\"showlakes\":true,\"lakecolor\":\"white\"},\"title\":{\"x\":0.05},\"mapbox\":{\"style\":\"light\"}}},\"xaxis\":{\"anchor\":\"y\",\"domain\":[0.0,1.0],\"title\":{\"text\":\"year\"}},\"yaxis\":{\"anchor\":\"x\",\"domain\":[0.0,1.0],\"title\":{\"text\":\"LikeCount\"}},\"legend\":{\"title\":{\"text\":\"User\"},\"tracegroupgap\":0},\"margin\":{\"t\":60}},                        {\"responsive\": true}                    ).then(function(){\n",
                            "                            \n",
                            "var gd = document.getElementById('032ef48f-8404-4bda-8b16-b7c6c7b769b3');\n",
                            "var x = new MutationObserver(function (mutations, observer) {{\n",
                            "        var display = window.getComputedStyle(gd).display;\n",
                            "        if (!display || display === 'none') {{\n",
                            "            console.log([gd, 'removed!']);\n",
                            "            Plotly.purge(gd);\n",
                            "            observer.disconnect();\n",
                            "        }}\n",
                            "}});\n",
                            "\n",
                            "// Listen for the removal of the full notebook cells\n",
                            "var notebookContainer = gd.closest('#notebook-container');\n",
                            "if (notebookContainer) {{\n",
                            "    x.observe(notebookContainer, {childList: true});\n",
                            "}}\n",
                            "\n",
                            "// Listen for the clearing of the current output cell\n",
                            "var outputEl = gd.closest('.output');\n",
                            "if (outputEl) {{\n",
                            "    x.observe(outputEl, {childList: true});\n",
                            "}}\n",
                            "\n",
                            "                        })                };                });            </script>        </div>"
                        ]
                    },
                    "metadata": {},
                    "output_type": "display_data"
                }
            ],
            "source": [
                "#Serie de la cantidad de likes por usuario\n",
                "fig = px.line(dfg, x=\"year\", y=\"LikeCount\", color='User')\n",
                "fig.show()"
            ]
        },
        {
            "cell_type": "code",
            "execution_count": 37,
            "metadata": {},
            "outputs": [
                {
                    "data": {
                        "text/plain": [
                            "de      714117\n",
                            "la      348808\n",
                            "en      335181\n",
                            "el      271087\n",
                            "y       246435\n",
                            "a       236333\n",
                            "que     200250\n",
                            "del     154718\n",
                            "los     123348\n",
                            "para    112114\n",
                            "dtype: Int64"
                        ]
                    },
                    "execution_count": 37,
                    "metadata": {},
                    "output_type": "execute_result"
                }
            ],
            "source": [
                "#Las 10 palabras que más se repiten (todas son stopwords, como era esperable)\n",
                "df['Tweet'].str.split(expand = True).stack().value_counts()[:10]"
            ]
        },
        {
            "cell_type": "markdown",
            "metadata": {},
            "source": [
                "## Data pre-processing"
            ]
        },
        {
            "cell_type": "code",
            "execution_count": 77,
            "metadata": {},
            "outputs": [],
            "source": [
                "#Limpiamos el texto para poder hacer NLP\n",
                "#Pasamos a minúsculas\n",
                "df['tweets_clean'] = df['Tweet'].str.lower()\n",
                "\n",
                "#Eliminamos URLs de fotos de tweets:\n",
                "url_pat = 'https://t.co/[A-Za-z\\d]+|&amp;'\n",
                "df['tweets_clean'] = df['tweets_clean'].str.replace(url_pat, '', regex = True)\n",
                "\n",
                "#Eliminamos https\n",
                "df['tweets_clean'] = df['tweets_clean'].str.replace('https', '', regex = True)\n",
                "df['tweets_clean'] = df['tweets_clean'].str.replace('http', '', regex = True)\n",
                "df['tweets_clean'] = df['tweets_clean'].str.replace('.com.uy', '', regex = True)\n",
                "df['tweets_clean'] = df['tweets_clean'].str.replace('http://larepublica.com.uy', '', regex = True)\n",
                "df['tweets_clean'] = df['tweets_clean'].str.replace('https://larepublica.com.uy', '', regex = True)\n",
                "\n",
                "\n",
                "#Eliminamos caracteres especiales:\n",
                "df['tweets_clean'] = df['tweets_clean'].str.replace(r'''[!.,():\\-%$/'\"''&;'\\n\\n'#|']''', '', regex = True)"
            ]
        },
        {
            "cell_type": "code",
            "execution_count": 78,
            "metadata": {},
            "outputs": [],
            "source": [
                "#Definimos función para eliminar stopwords\n",
                "def clean_stopwords(text: str,stop_dict: dict)->str:\n",
                "    if text is not None:\n",
                "        words = text.split()\n",
                "        words_clean = []\n",
                "        for word in words:\n",
                "            if word not in stop_dict:\n",
                "                words_clean.append(word)\n",
                "        result = ' '.join(words_clean)\n",
                "    else:\n",
                "        result = None\n",
                "    return result"
            ]
        },
        {
            "cell_type": "code",
            "execution_count": 79,
            "metadata": {},
            "outputs": [],
            "source": [
                "#Eliminamos los stopwords de la columna tweets_clean\n",
                "stop_dict = stopwords.words('spanish')\n",
                "df['tweets_clean'] = df['tweets_clean'].apply(lambda x: clean_stopwords(x, stop_dict = stop_dict)) "
            ]
        },
        {
            "cell_type": "code",
            "execution_count": 80,
            "metadata": {},
            "outputs": [
                {
                    "data": {
                        "text/plain": [
                            "uruguay       33715\n",
                            "años          21846\n",
                            "gobierno      21763\n",
                            "hoy           21314\n",
                            "montevideo    18311\n",
                            "dos           15794\n",
                            "nacional      15249\n",
                            "dijo          15114\n",
                            "tras          14717\n",
                            "nuevo         14617\n",
                            "dtype: int64"
                        ]
                    },
                    "execution_count": 80,
                    "metadata": {},
                    "output_type": "execute_result"
                }
            ],
            "source": [
                "#Las 10 palabras más mencionadas\n",
                "df['tweets_clean'].str.split(expand = True).stack().value_counts()[:10]"
            ]
        },
        {
            "cell_type": "code",
            "execution_count": 81,
            "metadata": {},
            "outputs": [
                {
                    "data": {
                        "image/png": "[encoded data removed]",
                        "text/plain": [
                            "<Figure size 960x960 with 1 Axes>"
                        ]
                    },
                    "metadata": {},
                    "output_type": "display_data"
                }
            ],
            "source": [
                "#Generamos nube de palabras\n",
                "from wordcloud import WordCloud\n",
                "text = ' '.join(i for i in df.tweets_clean)\n",
                "wordcloud = WordCloud(max_words=100, background_color='White').generate(text)\n",
                "plt.style.use('classic')\n",
                "plt.figure(figsize = (12,12))\n",
                "plt.imshow(wordcloud, interpolation='bilinear')\n",
                "plt.show()\n",
                "\n",
                "##Ver qué onda por qué no se borra ese república"
            ]
        },
        {
            "cell_type": "markdown",
            "metadata": {},
            "source": [
                "# PRUEBAS NLP:"
            ]
        },
        {
            "cell_type": "code",
            "execution_count": 17,
            "metadata": {},
            "outputs": [
                {
                    "data": {
                        "text/plain": [
                            "Sentiment(polarity=0.0, subjectivity=0.0)"
                        ]
                    },
                    "execution_count": 17,
                    "metadata": {},
                    "output_type": "execute_result"
                }
            ],
            "source": [
                "#PRUEBA NLP CINDY\n",
                "from textblob import TextBlob\n",
                " \n",
                "TextBlob('La camiseta es bonita.').sentiment\n",
                "analysis1 = TextBlob(\"This table is black\")\n",
                "analysis2 = TextBlob(\"La camiseta es fea.\")\n",
                "analysis1.sentiment\n",
                "analysis2.sentiment\n"
            ]
        },
        {
            "cell_type": "code",
            "execution_count": null,
            "metadata": {},
            "outputs": [],
            "source": [
                "#PRUEBA NLP BELU:"
            ]
        },
        {
            "cell_type": "code",
            "execution_count": 28,
            "metadata": {},
            "outputs": [],
            "source": [
                "%%capture\n",
                "!pip install sentiment-analysis-spanish\n",
                "!pip install keras tensorflow"
            ]
        },
        {
            "cell_type": "code",
            "execution_count": 29,
            "metadata": {},
            "outputs": [],
            "source": [
                "from sentiment_analysis_spanish import sentiment_analysis"
            ]
        },
        {
            "cell_type": "code",
            "execution_count": 30,
            "metadata": {},
            "outputs": [
                {
                    "name": "stdout",
                    "output_type": "stream",
                    "text": [
                        "0.950769940243863\n"
                    ]
                },
                {
                    "name": "stderr",
                    "output_type": "stream",
                    "text": [
                        "/home/gitpod/.pyenv/versions/3.8.13/lib/python3.8/site-packages/sklearn/base.py:329: UserWarning: Trying to unpickle estimator CountVectorizer from version 0.23.2 when using version 1.1.2. This might lead to breaking code or invalid results. Use at your own risk. For more info please refer to:\n",
                        "https://scikit-learn.org/stable/model_persistence.html#security-maintainability-limitations\n",
                        "  warnings.warn(\n",
                        "/home/gitpod/.pyenv/versions/3.8.13/lib/python3.8/site-packages/sklearn/base.py:329: UserWarning: Trying to unpickle estimator MultinomialNB from version 0.23.2 when using version 1.1.2. This might lead to breaking code or invalid results. Use at your own risk. For more info please refer to:\n",
                        "https://scikit-learn.org/stable/model_persistence.html#security-maintainability-limitations\n",
                        "  warnings.warn(\n"
                    ]
                }
            ],
            "source": [
                "sentiment = sentiment_analysis.SentimentAnalysisSpanish()\n",
                "print(sentiment.sentiment(\"me gusta el café es genial\"))\n",
                "\n",
                "#The function sentiment(text) returns a number between 0 and 1. This is the probability of string variable text of being \"positive\". \n",
                "#Low probabilities mean that the text is negative (numbers close to 0)\n",
                "#High probabilities (numbers close to 1) mean that the text is positive. The space in between corespond to neutral texts."
            ]
        },
        {
            "cell_type": "markdown",
            "metadata": {},
            "source": [
                "https://colab.research.google.com/github/pysentimiento/pysentimiento/blob/master/notebooks/PySentimiento_Sentiment_Analysis_in_Spanish.ipynb"
            ]
        },
        {
            "cell_type": "code",
            "execution_count": null,
            "metadata": {},
            "outputs": [],
            "source": [
                "#PROBAR FASTTEXT"
            ]
        }
    ],
    "metadata": {
        "kernelspec": {
            "display_name": "Python 3.8.13 64-bit ('3.8.13')",
            "language": "python",
            "name": "python3"
        },
        "language_info": {
            "codemirror_mode": {
                "name": "ipython",
                "version": 3
            },
            "file_extension": ".py",
            "mimetype": "text/x-python",
            "name": "python",
            "nbconvert_exporter": "python",
            "pygments_lexer": "ipython3",
            "version": "3.8.13"
        },
        "orig_nbformat": 4,
        "vscode": {
            "interpreter": {
                "hash": "110cc1dee26208153f2972f08a2ad52b6a56238dc66d48e87fb757ef2996db56"
            }
        }
    },
    "nbformat": 4,
    "nbformat_minor": 2
}
